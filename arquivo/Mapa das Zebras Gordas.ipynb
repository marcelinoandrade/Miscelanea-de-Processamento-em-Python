{
 "cells": [
  {
   "cell_type": "markdown",
   "metadata": {},
   "source": [
    "<h1><center>A Zebra Gorda!!!</center></h1>\n",
    "\n",
    "<figure> &emsp;\n",
    "\n",
    "\n",
    "\n",
    "\n",
    "<img src=\"https://encrypted-tbn0.gstatic.com/images?q=tbn%3AANd9GcQ9sOVN0F6tymxXYtWGyvxaFJpzBBLr_2QhPNyf4UGBZ5VbU68I\" width=\"250\" height=\"250\"\n",
    " />\n",
    "\n",
    "\n",
    "</figure>\n",
    "\n",
    "\n",
    "\n",
    "<div id=\"Tópico 0\">\n",
    "    <div >\n",
    "        <h><a href=\"https://www.linkedin.com/in/marcelino-andrade-b164b369/\"><h2>Prof. Marcelino Monteiro de Andrade Dr.</h2></a></h>   \n",
    "</div> </div>\n",
    "\n",
    "\n",
    "\n",
    "Um pouco uma análise exploratória das zebras, em especial, na Universidade de Brasília\n",
    "\n",
    "Observação: dados coletados da base Portal da Trasparência. Contudo, resultados não auditados e passíveis de erros\n",
    "\n",
    "Figura:https://www.amazon.com/generic-personalized-zebra-mouse-pad/dp/b00xmsmzs2"
   ]
  },
  {
   "cell_type": "code",
   "execution_count": 1,
   "metadata": {},
   "outputs": [
    {
     "data": {
      "text/html": [
       "        <script type=\"text/javascript\">\n",
       "        window.PlotlyConfig = {MathJaxConfig: 'local'};\n",
       "        if (window.MathJax) {MathJax.Hub.Config({SVG: {font: \"STIX-Web\"}});}\n",
       "        if (typeof require !== 'undefined') {\n",
       "        require.undef(\"plotly\");\n",
       "        requirejs.config({\n",
       "            paths: {\n",
       "                'plotly': ['https://cdn.plot.ly/plotly-latest.min']\n",
       "            }\n",
       "        });\n",
       "        require(['plotly'], function(Plotly) {\n",
       "            window._Plotly = Plotly;\n",
       "        });\n",
       "        }\n",
       "        </script>\n",
       "        "
      ]
     },
     "metadata": {},
     "output_type": "display_data"
    }
   ],
   "source": [
    "import numpy as np\n",
    "import pandas as pd\n",
    "import matplotlib.pyplot as plt\n",
    "import seaborn as sns\n",
    "plt.style.use('bmh')                    \n",
    "sns.set_style({'axes.grid':False}) \n",
    "%matplotlib inline\n",
    "import plotly.offline as py\n",
    "from plotly.offline import iplot, init_notebook_mode\n",
    "import plotly.graph_objs as go\n",
    "init_notebook_mode(connected = True)\n",
    "import warnings as wrn\n",
    "wrn.filterwarnings('ignore', category = DeprecationWarning) \n",
    "wrn.filterwarnings('ignore', category = FutureWarning) \n",
    "wrn.filterwarnings('ignore', category = UserWarning) "
   ]
  },
  {
   "cell_type": "markdown",
   "metadata": {},
   "source": [
    "1) Lendo Bases de Dados"
   ]
  },
  {
   "cell_type": "code",
   "execution_count": null,
   "metadata": {
    "collapsed": true
   },
   "outputs": [],
   "source": [
    "df_rem = pd.read_csv('/home/mrclnndrd/Dropbox/UnB/Gama/Arquivo/Zebra Gorda/201908_Remuneracao.csv', \n",
    "                         encoding='cp1252')"
   ]
  },
  {
   "cell_type": "code",
   "execution_count": null,
   "metadata": {
    "collapsed": true
   },
   "outputs": [],
   "source": [
    "df_cad = pd.read_csv('/home/mrclnndrd/Dropbox/UnB/Gama/Arquivo/Zebra Gorda/201908_Cadastro.csv',\n",
    "                     encoding='latin-1', header=None, sep='\\n')"
   ]
  },
  {
   "cell_type": "markdown",
   "metadata": {},
   "source": [
    "2) Extraindo dados do cadastro"
   ]
  },
  {
   "cell_type": "code",
   "execution_count": null,
   "metadata": {},
   "outputs": [],
   "source": [
    "servidor=[]\n",
    "matricula=[]\n",
    "CPF=[]\n",
    "unidade=[]\n",
    "cargo=[]\n",
    "nivel=[]\n",
    "lotado=[]\n",
    "for i in range(len(df_cad)):\n",
    "        servidor.append(df_cad.iloc[i][0].split(';')[1][1:-1])\n",
    "        CPF.append(df_cad.iloc[i][0].split(';')[2][1:-1])\n",
    "        unidade.append(df_cad.iloc[i][0].split(';')[24][1:-1])\n",
    "        cargo.append(df_cad.iloc[i][0].split(\";\")[4][1:-1])\n",
    "        nivel.append(df_cad.iloc[i][0].split(\";\")[8][1:-1])\n",
    "        lotado.append(df_cad.iloc[i][0].split(';')[16][1:-1])\n",
    "print(i)\n",
    "data_cad=pd.DataFrame([servidor,CPF,unidade,cargo,nivel,lotado])\n",
    "data_cad.to_pickle(\"./data_cad.pkl\")"
   ]
  },
  {
   "cell_type": "markdown",
   "metadata": {},
   "source": [
    "3) Extraindo dados de remuneração"
   ]
  },
  {
   "cell_type": "code",
   "execution_count": null,
   "metadata": {},
   "outputs": [],
   "source": [
    "servidor=[]\n",
    "matricula=[]\n",
    "CPF=[]\n",
    "remunera=[]\n",
    "for i in range(len(df_rem)):\n",
    "    servidor.append(str(df_rem.iloc[i]).split(\";\")[42][1:-1])\n",
    "    CPF.append(str(df_rem.iloc[i]).split(\";\")[41][1:-1])\n",
    "    remunera.append(str(df_rem.iloc[i]).split(\";\")[43][1:-1])\n",
    "print(i)\n",
    "data_rem=pd.DataFrame([servidor,CPF,remunera])\n",
    "data_rem.to_pickle(\"./data_rem.pkl\")"
   ]
  },
  {
   "cell_type": "markdown",
   "metadata": {},
   "source": [
    "4) Concebendo DataFrames de Cadastro e Remuneração"
   ]
  },
  {
   "cell_type": "code",
   "execution_count": 2,
   "metadata": {},
   "outputs": [],
   "source": [
    "data_cad = pd.read_pickle(\"./data_cad.pkl\")\n",
    "data_cad=data_cad.transpose()\n",
    "data_cad.columns=list(data_cad.iloc[0])\n",
    "data_cad.drop(data_cad.index[0],inplace=True)\n",
    "data_cad['ID']=data_cad['NOME']+data_cad['CPF']\n",
    "#data_cad.head()"
   ]
  },
  {
   "cell_type": "code",
   "execution_count": 3,
   "metadata": {},
   "outputs": [],
   "source": [
    "data_rem = pd.read_pickle(\"./data_rem.pkl\")\n",
    "data_rem=data_rem.transpose()\n",
    "data_rem.columns=['NOME','CPF','REMUNERA']\n",
    "data_rem['ID']=data_rem['NOME']+data_rem['CPF']\n",
    "#data_rem.head()"
   ]
  },
  {
   "cell_type": "markdown",
   "metadata": {},
   "source": [
    "5) Avaliando Duplicatas"
   ]
  },
  {
   "cell_type": "code",
   "execution_count": null,
   "metadata": {},
   "outputs": [],
   "source": [
    "#data_rem['ID'].value_counts()[:10]"
   ]
  },
  {
   "cell_type": "code",
   "execution_count": null,
   "metadata": {},
   "outputs": [],
   "source": [
    "#data_cad['ID'].value_counts()[:10]"
   ]
  },
  {
   "cell_type": "markdown",
   "metadata": {},
   "source": [
    "6) Eliminando Duplicatas"
   ]
  },
  {
   "cell_type": "code",
   "execution_count": 4,
   "metadata": {
    "collapsed": true
   },
   "outputs": [],
   "source": [
    "data_cad=data_cad[data_cad['NIVEL_CARGO']!='-1']"
   ]
  },
  {
   "cell_type": "code",
   "execution_count": 5,
   "metadata": {
    "collapsed": true
   },
   "outputs": [],
   "source": [
    "data_cad=data_cad.drop_duplicates(subset='ID', keep='first')#['ID'].value_counts()[:100]"
   ]
  },
  {
   "cell_type": "code",
   "execution_count": null,
   "metadata": {},
   "outputs": [],
   "source": [
    "#data_cad['ID'].value_counts()[:10]"
   ]
  },
  {
   "cell_type": "code",
   "execution_count": null,
   "metadata": {},
   "outputs": [],
   "source": [
    "print(len(data_cad),len(data_rem))"
   ]
  },
  {
   "cell_type": "markdown",
   "metadata": {},
   "source": [
    "7) Reunindo DataFrames"
   ]
  },
  {
   "cell_type": "code",
   "execution_count": 6,
   "metadata": {},
   "outputs": [],
   "source": [
    "data_cad=data_cad.set_index('ID')\n",
    "data_rem=data_rem.set_index('ID')\n",
    "\n",
    "#display(data_cad.head())\n",
    "#display(data_rem.head())"
   ]
  },
  {
   "cell_type": "code",
   "execution_count": 7,
   "metadata": {},
   "outputs": [
    {
     "data": {
      "text/plain": [
       "True"
      ]
     },
     "execution_count": 7,
     "metadata": {},
     "output_type": "execute_result"
    }
   ],
   "source": [
    "data= pd.concat([data_cad[['ORG_EXERCICIO','NIVEL_CARGO','DESCRICAO_CARGO','UORG_LOTACAO']], data_rem['REMUNERA']], axis=1, sort=False)\n",
    "data_cad.index[0]==data_rem.index[0]\n"
   ]
  },
  {
   "cell_type": "markdown",
   "metadata": {},
   "source": [
    "8) Tratando dados"
   ]
  },
  {
   "cell_type": "code",
   "execution_count": 8,
   "metadata": {},
   "outputs": [
    {
     "data": {
      "text/plain": [
       "object    5\n",
       "dtype: int64"
      ]
     },
     "execution_count": 8,
     "metadata": {},
     "output_type": "execute_result"
    }
   ],
   "source": [
    "data.dtypes.value_counts()"
   ]
  },
  {
   "cell_type": "code",
   "execution_count": 9,
   "metadata": {},
   "outputs": [
    {
     "data": {
      "text/plain": [
       "<matplotlib.axes._subplots.AxesSubplot at 0x7f12ff31cc50>"
      ]
     },
     "execution_count": 9,
     "metadata": {},
     "output_type": "execute_result"
    },
    {
     "data": {
      "image/png": "[encoded data removed]",
      "text/plain": [
       "<Figure size 1440x576 with 1 Axes>"
      ]
     },
     "metadata": {},
     "output_type": "display_data"
    }
   ],
   "source": [
    "plt.figure(figsize=(20,8))\n",
    "sns.heatmap(data.isnull(), yticklabels=False, cbar=False, cmap = 'summer')"
   ]
  },
  {
   "cell_type": "code",
   "execution_count": 10,
   "metadata": {},
   "outputs": [
    {
     "data": {
      "application/vnd.plotly.v1+json": {
       "config": {
        "linkText": "Export to plot.ly",
        "plotlyServerURL": "https://plot.ly",
        "showLink": false
       },
       "data": [
        {
         "marker": {
          "color": [
           5941,
           5941,
           5941,
           5941,
           119335
          ],
          "colorscale": [
           [
            0,
            "#440154"
           ],
           [
            0.1111111111111111,
            "#482878"
           ],
           [
            0.2222222222222222,
            "#3e4989"
           ],
           [
            0.3333333333333333,
            "#31688e"
           ],
           [
            0.4444444444444444,
            "#26828e"
           ],
           [
            0.5555555555555556,
            "#1f9e89"
           ],
           [
            0.6666666666666666,
            "#35b779"
           ],
           [
            0.7777777777777778,
            "#6ece58"
           ],
           [
            0.8888888888888888,
            "#b5de2b"
           ],
           [
            1,
            "#fde725"
           ]
          ],
          "showscale": true,
          "size": 20
         },
         "mode": "markers",
         "type": "scatter",
         "x": [
          "ORG_EXERCICIO",
          "NIVEL_CARGO",
          "DESCRICAO_CARGO",
          "UORG_LOTACAO",
          "REMUNERA"
         ],
         "y": [
          5941,
          5941,
          5941,
          5941,
          119335
         ]
        }
       ],
       "layout": {
        "hovermode": "closest",
        "template": {
         "data": {
          "bar": [
           {
            "error_x": {
             "color": "#2a3f5f"
            },
            "error_y": {
             "color": "#2a3f5f"
            },
            "marker": {
             "line": {
              "color": "#E5ECF6",
              "width": 0.5
             }
            },
            "type": "bar"
           }
          ],
          "barpolar": [
           {
            "marker": {
             "line": {
              "color": "#E5ECF6",
              "width": 0.5
             }
            },
            "type": "barpolar"
           }
          ],
          "carpet": [
           {
            "aaxis": {
             "endlinecolor": "#2a3f5f",
             "gridcolor": "white",
             "linecolor": "white",
             "minorgridcolor": "white",
             "startlinecolor": "#2a3f5f"
            },
            "baxis": {
             "endlinecolor": "#2a3f5f",
             "gridcolor": "white",
             "linecolor": "white",
             "minorgridcolor": "white",
             "startlinecolor": "#2a3f5f"
            },
            "type": "carpet"
           }
          ],
          "choropleth": [
           {
            "colorbar": {
             "outlinewidth": 0,
             "ticks": ""
            },
            "type": "choropleth"
           }
          ],
          "contour": [
           {
            "colorbar": {
             "outlinewidth": 0,
             "ticks": ""
            },
            "colorscale": [
             [
              0,
              "#0d0887"
             ],
             [
              0.1111111111111111,
              "#46039f"
             ],
             [
              0.2222222222222222,
              "#7201a8"
             ],
             [
              0.3333333333333333,
              "#9c179e"
             ],
             [
              0.4444444444444444,
              "#bd3786"
             ],
             [
              0.5555555555555556,
              "#d8576b"
             ],
             [
              0.6666666666666666,
              "#ed7953"
             ],
             [
              0.7777777777777778,
              "#fb9f3a"
             ],
             [
              0.8888888888888888,
              "#fdca26"
             ],
             [
              1,
              "#f0f921"
             ]
            ],
            "type": "contour"
           }
          ],
          "contourcarpet": [
           {
            "colorbar": {
             "outlinewidth": 0,
             "ticks": ""
            },
            "type": "contourcarpet"
           }
          ],
          "heatmap": [
           {
            "colorbar": {
             "outlinewidth": 0,
             "ticks": ""
            },
            "colorscale": [
             [
              0,
              "#0d0887"
             ],
             [
              0.1111111111111111,
              "#46039f"
             ],
             [
              0.2222222222222222,
              "#7201a8"
             ],
             [
              0.3333333333333333,
              "#9c179e"
             ],
             [
              0.4444444444444444,
              "#bd3786"
             ],
             [
              0.5555555555555556,
              "#d8576b"
             ],
             [
              0.6666666666666666,
              "#ed7953"
             ],
             [
              0.7777777777777778,
              "#fb9f3a"
             ],
             [
              0.8888888888888888,
              "#fdca26"
             ],
             [
              1,
              "#f0f921"
             ]
            ],
            "type": "heatmap"
           }
          ],
          "heatmapgl": [
           {
            "colorbar": {
             "outlinewidth": 0,
             "ticks": ""
            },
            "colorscale": [
             [
              0,
              "#0d0887"
             ],
             [
              0.1111111111111111,
              "#46039f"
             ],
             [
              0.2222222222222222,
              "#7201a8"
             ],
             [
              0.3333333333333333,
              "#9c179e"
             ],
             [
              0.4444444444444444,
              "#bd3786"
             ],
             [
              0.5555555555555556,
              "#d8576b"
             ],
             [
              0.6666666666666666,
              "#ed7953"
             ],
             [
              0.7777777777777778,
              "#fb9f3a"
             ],
             [
              0.8888888888888888,
              "#fdca26"
             ],
             [
              1,
              "#f0f921"
             ]
            ],
            "type": "heatmapgl"
           }
          ],
          "histogram": [
           {
            "marker": {
             "colorbar": {
              "outlinewidth": 0,
              "ticks": ""
             }
            },
            "type": "histogram"
           }
          ],
          "histogram2d": [
           {
            "colorbar": {
             "outlinewidth": 0,
             "ticks": ""
            },
            "colorscale": [
             [
              0,
              "#0d0887"
             ],
             [
              0.1111111111111111,
              "#46039f"
             ],
             [
              0.2222222222222222,
              "#7201a8"
             ],
             [
              0.3333333333333333,
              "#9c179e"
             ],
             [
              0.4444444444444444,
              "#bd3786"
             ],
             [
              0.5555555555555556,
              "#d8576b"
             ],
             [
              0.6666666666666666,
              "#ed7953"
             ],
             [
              0.7777777777777778,
              "#fb9f3a"
             ],
             [
              0.8888888888888888,
              "#fdca26"
             ],
             [
              1,
              "#f0f921"
             ]
            ],
            "type": "histogram2d"
           }
          ],
          "histogram2dcontour": [
           {
            "colorbar": {
             "outlinewidth": 0,
             "ticks": ""
            },
            "colorscale": [
             [
              0,
              "#0d0887"
             ],
             [
              0.1111111111111111,
              "#46039f"
             ],
             [
              0.2222222222222222,
              "#7201a8"
             ],
             [
              0.3333333333333333,
              "#9c179e"
             ],
             [
              0.4444444444444444,
              "#bd3786"
             ],
             [
              0.5555555555555556,
              "#d8576b"
             ],
             [
              0.6666666666666666,
              "#ed7953"
             ],
             [
              0.7777777777777778,
              "#fb9f3a"
             ],
             [
              0.8888888888888888,
              "#fdca26"
             ],
             [
              1,
              "#f0f921"
             ]
            ],
            "type": "histogram2dcontour"
           }
          ],
          "mesh3d": [
           {
            "colorbar": {
             "outlinewidth": 0,
             "ticks": ""
            },
            "type": "mesh3d"
           }
          ],
          "parcoords": [
           {
            "line": {
             "colorbar": {
              "outlinewidth": 0,
              "ticks": ""
             }
            },
            "type": "parcoords"
           }
          ],
          "scatter": [
           {
            "marker": {
             "colorbar": {
              "outlinewidth": 0,
              "ticks": ""
             }
            },
            "type": "scatter"
           }
          ],
          "scatter3d": [
           {
            "line": {
             "colorbar": {
              "outlinewidth": 0,
              "ticks": ""
             }
            },
            "marker": {
             "colorbar": {
              "outlinewidth": 0,
              "ticks": ""
             }
            },
            "type": "scatter3d"
           }
          ],
          "scattercarpet": [
           {
            "marker": {
             "colorbar": {
              "outlinewidth": 0,
              "ticks": ""
             }
            },
            "type": "scattercarpet"
           }
          ],
          "scattergeo": [
           {
            "marker": {
             "colorbar": {
              "outlinewidth": 0,
              "ticks": ""
             }
            },
            "type": "scattergeo"
           }
          ],
          "scattergl": [
           {
            "marker": {
             "colorbar": {
              "outlinewidth": 0,
              "ticks": ""
             }
            },
            "type": "scattergl"
           }
          ],
          "scattermapbox": [
           {
            "marker": {
             "colorbar": {
              "outlinewidth": 0,
              "ticks": ""
             }
            },
            "type": "scattermapbox"
           }
          ],
          "scatterpolar": [
           {
            "marker": {
             "colorbar": {
              "outlinewidth": 0,
              "ticks": ""
             }
            },
            "type": "scatterpolar"
           }
          ],
          "scatterpolargl": [
           {
            "marker": {
             "colorbar": {
              "outlinewidth": 0,
              "ticks": ""
             }
            },
            "type": "scatterpolargl"
           }
          ],
          "scatterternary": [
           {
            "marker": {
             "colorbar": {
              "outlinewidth": 0,
              "ticks": ""
             }
            },
            "type": "scatterternary"
           }
          ],
          "surface": [
           {
            "colorbar": {
             "outlinewidth": 0,
             "ticks": ""
            },
            "colorscale": [
             [
              0,
              "#0d0887"
             ],
             [
              0.1111111111111111,
              "#46039f"
             ],
             [
              0.2222222222222222,
              "#7201a8"
             ],
             [
              0.3333333333333333,
              "#9c179e"
             ],
             [
              0.4444444444444444,
              "#bd3786"
             ],
             [
              0.5555555555555556,
              "#d8576b"
             ],
             [
              0.6666666666666666,
              "#ed7953"
             ],
             [
              0.7777777777777778,
              "#fb9f3a"
             ],
             [
              0.8888888888888888,
              "#fdca26"
             ],
             [
              1,
              "#f0f921"
             ]
            ],
            "type": "surface"
           }
          ],
          "table": [
           {
            "cells": {
             "fill": {
              "color": "#EBF0F8"
             },
             "line": {
              "color": "white"
             }
            },
            "header": {
             "fill": {
              "color": "#C8D4E3"
             },
             "line": {
              "color": "white"
             }
            },
            "type": "table"
           }
          ]
         },
         "layout": {
          "annotationdefaults": {
           "arrowcolor": "#2a3f5f",
           "arrowhead": 0,
           "arrowwidth": 1
          },
          "colorscale": {
           "diverging": [
            [
             0,
             "#8e0152"
            ],
            [
             0.1,
             "#c51b7d"
            ],
            [
             0.2,
             "#de77ae"
            ],
            [
             0.3,
             "#f1b6da"
            ],
            [
             0.4,
             "#fde0ef"
            ],
            [
             0.5,
             "#f7f7f7"
            ],
            [
             0.6,
             "#e6f5d0"
            ],
            [
             0.7,
             "#b8e186"
            ],
            [
             0.8,
             "#7fbc41"
            ],
            [
             0.9,
             "#4d9221"
            ],
            [
             1,
             "#276419"
            ]
           ],
           "sequential": [
            [
             0,
             "#0d0887"
            ],
            [
             0.1111111111111111,
             "#46039f"
            ],
            [
             0.2222222222222222,
             "#7201a8"
            ],
            [
             0.3333333333333333,
             "#9c179e"
            ],
            [
             0.4444444444444444,
             "#bd3786"
            ],
            [
             0.5555555555555556,
             "#d8576b"
            ],
            [
             0.6666666666666666,
             "#ed7953"
            ],
            [
             0.7777777777777778,
             "#fb9f3a"
            ],
            [
             0.8888888888888888,
             "#fdca26"
            ],
            [
             1,
             "#f0f921"
            ]
           ],
           "sequentialminus": [
            [
             0,
             "#0d0887"
            ],
            [
             0.1111111111111111,
             "#46039f"
            ],
            [
             0.2222222222222222,
             "#7201a8"
            ],
            [
             0.3333333333333333,
             "#9c179e"
            ],
            [
             0.4444444444444444,
             "#bd3786"
            ],
            [
             0.5555555555555556,
             "#d8576b"
            ],
            [
             0.6666666666666666,
             "#ed7953"
            ],
            [
             0.7777777777777778,
             "#fb9f3a"
            ],
            [
             0.8888888888888888,
             "#fdca26"
            ],
            [
             1,
             "#f0f921"
            ]
           ]
          },
          "colorway": [
           "#636efa",
           "#EF553B",
           "#00cc96",
           "#ab63fa",
           "#FFA15A",
           "#19d3f3",
           "#FF6692",
           "#B6E880",
           "#FF97FF",
           "#FECB52"
          ],
          "font": {
           "color": "#2a3f5f"
          },
          "geo": {
           "bgcolor": "white",
           "lakecolor": "white",
           "landcolor": "#E5ECF6",
           "showlakes": true,
           "showland": true,
           "subunitcolor": "white"
          },
          "hoverlabel": {
           "align": "left"
          },
          "hovermode": "closest",
          "mapbox": {
           "style": "light"
          },
          "paper_bgcolor": "white",
          "plot_bgcolor": "#E5ECF6",
          "polar": {
           "angularaxis": {
            "gridcolor": "white",
            "linecolor": "white",
            "ticks": ""
           },
           "bgcolor": "#E5ECF6",
           "radialaxis": {
            "gridcolor": "white",
            "linecolor": "white",
            "ticks": ""
           }
          },
          "scene": {
           "xaxis": {
            "backgroundcolor": "#E5ECF6",
            "gridcolor": "white",
            "gridwidth": 2,
            "linecolor": "white",
            "showbackground": true,
            "ticks": "",
            "zerolinecolor": "white"
           },
           "yaxis": {
            "backgroundcolor": "#E5ECF6",
            "gridcolor": "white",
            "gridwidth": 2,
            "linecolor": "white",
            "showbackground": true,
            "ticks": "",
            "zerolinecolor": "white"
           },
           "zaxis": {
            "backgroundcolor": "#E5ECF6",
            "gridcolor": "white",
            "gridwidth": 2,
            "linecolor": "white",
            "showbackground": true,
            "ticks": "",
            "zerolinecolor": "white"
           }
          },
          "shapedefaults": {
           "line": {
            "color": "#2a3f5f"
           }
          },
          "ternary": {
           "aaxis": {
            "gridcolor": "white",
            "linecolor": "white",
            "ticks": ""
           },
           "baxis": {
            "gridcolor": "white",
            "linecolor": "white",
            "ticks": ""
           },
           "bgcolor": "#E5ECF6",
           "caxis": {
            "gridcolor": "white",
            "linecolor": "white",
            "ticks": ""
           }
          },
          "title": {
           "x": 0.05
          },
          "xaxis": {
           "automargin": true,
           "gridcolor": "white",
           "linecolor": "white",
           "ticks": "",
           "zerolinecolor": "white",
           "zerolinewidth": 2
          },
          "yaxis": {
           "automargin": true,
           "gridcolor": "white",
           "linecolor": "white",
           "ticks": "",
           "zerolinecolor": "white",
           "zerolinewidth": 2
          }
         }
        },
        "title": {
         "text": "Variables with Missing Values"
        },
        "xaxis": {
         "title": {
          "text": "Features Having Missing Observations"
         }
        },
        "yaxis": {
         "title": {
          "text": "Missing Values"
         }
        }
       }
      },
      "text/html": [
       "<div>\n",
       "        \n",
       "        \n",
       "            <div id=\"4ad068d2-5e40-4ea7-8dba-807f53efe9d3\" class=\"plotly-graph-div\" style=\"height:525px; width:100%;\"></div>\n",
       "            <script type=\"text/javascript\">\n",
       "                require([\"plotly\"], function(Plotly) {\n",
       "                    window.PLOTLYENV=window.PLOTLYENV || {};\n",
       "                    \n",
       "                if (document.getElementById(\"4ad068d2-5e40-4ea7-8dba-807f53efe9d3\")) {\n",
       "                    Plotly.newPlot(\n",
       "                        '4ad068d2-5e40-4ea7-8dba-807f53efe9d3',\n",
       "                        [{\"marker\": {\"color\": [5941, 5941, 5941, 5941, 119335], \"colorscale\": [[0.0, \"#440154\"], [0.1111111111111111, \"#482878\"], [0.2222222222222222, \"#3e4989\"], [0.3333333333333333, \"#31688e\"], [0.4444444444444444, \"#26828e\"], [0.5555555555555556, \"#1f9e89\"], [0.6666666666666666, \"#35b779\"], [0.7777777777777778, \"#6ece58\"], [0.8888888888888888, \"#b5de2b\"], [1.0, \"#fde725\"]], \"showscale\": true, \"size\": 20}, \"mode\": \"markers\", \"type\": \"scatter\", \"x\": [\"ORG_EXERCICIO\", \"NIVEL_CARGO\", \"DESCRICAO_CARGO\", \"UORG_LOTACAO\", \"REMUNERA\"], \"y\": [5941, 5941, 5941, 5941, 119335]}],\n",
       "                        {\"hovermode\": \"closest\", \"template\": {\"data\": {\"bar\": [{\"error_x\": {\"color\": \"#2a3f5f\"}, \"error_y\": {\"color\": \"#2a3f5f\"}, \"marker\": {\"line\": {\"color\": \"#E5ECF6\", \"width\": 0.5}}, \"type\": \"bar\"}], \"barpolar\": [{\"marker\": {\"line\": {\"color\": \"#E5ECF6\", \"width\": 0.5}}, \"type\": \"barpolar\"}], \"carpet\": [{\"aaxis\": {\"endlinecolor\": \"#2a3f5f\", \"gridcolor\": \"white\", \"linecolor\": \"white\", \"minorgridcolor\": \"white\", \"startlinecolor\": \"#2a3f5f\"}, \"baxis\": {\"endlinecolor\": \"#2a3f5f\", \"gridcolor\": \"white\", \"linecolor\": \"white\", \"minorgridcolor\": \"white\", \"startlinecolor\": \"#2a3f5f\"}, \"type\": \"carpet\"}], \"choropleth\": [{\"colorbar\": {\"outlinewidth\": 0, \"ticks\": \"\"}, \"type\": \"choropleth\"}], \"contour\": [{\"colorbar\": {\"outlinewidth\": 0, \"ticks\": \"\"}, \"colorscale\": [[0.0, \"#0d0887\"], [0.1111111111111111, \"#46039f\"], [0.2222222222222222, \"#7201a8\"], [0.3333333333333333, \"#9c179e\"], [0.4444444444444444, \"#bd3786\"], [0.5555555555555556, \"#d8576b\"], [0.6666666666666666, \"#ed7953\"], [0.7777777777777778, \"#fb9f3a\"], [0.8888888888888888, \"#fdca26\"], [1.0, \"#f0f921\"]], \"type\": \"contour\"}], \"contourcarpet\": [{\"colorbar\": {\"outlinewidth\": 0, \"ticks\": \"\"}, \"type\": \"contourcarpet\"}], \"heatmap\": [{\"colorbar\": {\"outlinewidth\": 0, \"ticks\": \"\"}, \"colorscale\": [[0.0, \"#0d0887\"], [0.1111111111111111, \"#46039f\"], [0.2222222222222222, \"#7201a8\"], [0.3333333333333333, \"#9c179e\"], [0.4444444444444444, \"#bd3786\"], [0.5555555555555556, \"#d8576b\"], [0.6666666666666666, \"#ed7953\"], [0.7777777777777778, \"#fb9f3a\"], [0.8888888888888888, \"#fdca26\"], [1.0, \"#f0f921\"]], \"type\": \"heatmap\"}], \"heatmapgl\": [{\"colorbar\": {\"outlinewidth\": 0, \"ticks\": \"\"}, \"colorscale\": [[0.0, \"#0d0887\"], [0.1111111111111111, \"#46039f\"], [0.2222222222222222, \"#7201a8\"], [0.3333333333333333, \"#9c179e\"], [0.4444444444444444, \"#bd3786\"], [0.5555555555555556, \"#d8576b\"], [0.6666666666666666, \"#ed7953\"], [0.7777777777777778, \"#fb9f3a\"], [0.8888888888888888, \"#fdca26\"], [1.0, \"#f0f921\"]], \"type\": \"heatmapgl\"}], \"histogram\": [{\"marker\": {\"colorbar\": {\"outlinewidth\": 0, \"ticks\": \"\"}}, \"type\": \"histogram\"}], \"histogram2d\": [{\"colorbar\": {\"outlinewidth\": 0, \"ticks\": \"\"}, \"colorscale\": [[0.0, \"#0d0887\"], [0.1111111111111111, \"#46039f\"], [0.2222222222222222, \"#7201a8\"], [0.3333333333333333, \"#9c179e\"], [0.4444444444444444, \"#bd3786\"], [0.5555555555555556, \"#d8576b\"], [0.6666666666666666, \"#ed7953\"], [0.7777777777777778, \"#fb9f3a\"], [0.8888888888888888, \"#fdca26\"], [1.0, \"#f0f921\"]], \"type\": \"histogram2d\"}], \"histogram2dcontour\": [{\"colorbar\": {\"outlinewidth\": 0, \"ticks\": \"\"}, \"colorscale\": [[0.0, \"#0d0887\"], [0.1111111111111111, \"#46039f\"], [0.2222222222222222, \"#7201a8\"], [0.3333333333333333, \"#9c179e\"], [0.4444444444444444, \"#bd3786\"], [0.5555555555555556, \"#d8576b\"], [0.6666666666666666, \"#ed7953\"], [0.7777777777777778, \"#fb9f3a\"], [0.8888888888888888, \"#fdca26\"], [1.0, \"#f0f921\"]], \"type\": \"histogram2dcontour\"}], \"mesh3d\": [{\"colorbar\": {\"outlinewidth\": 0, \"ticks\": \"\"}, \"type\": \"mesh3d\"}], \"parcoords\": [{\"line\": {\"colorbar\": {\"outlinewidth\": 0, \"ticks\": \"\"}}, \"type\": \"parcoords\"}], \"scatter\": [{\"marker\": {\"colorbar\": {\"outlinewidth\": 0, \"ticks\": \"\"}}, \"type\": \"scatter\"}], \"scatter3d\": [{\"line\": {\"colorbar\": {\"outlinewidth\": 0, \"ticks\": \"\"}}, \"marker\": {\"colorbar\": {\"outlinewidth\": 0, \"ticks\": \"\"}}, \"type\": \"scatter3d\"}], \"scattercarpet\": [{\"marker\": {\"colorbar\": {\"outlinewidth\": 0, \"ticks\": \"\"}}, \"type\": \"scattercarpet\"}], \"scattergeo\": [{\"marker\": {\"colorbar\": {\"outlinewidth\": 0, \"ticks\": \"\"}}, \"type\": \"scattergeo\"}], \"scattergl\": [{\"marker\": {\"colorbar\": {\"outlinewidth\": 0, \"ticks\": \"\"}}, \"type\": \"scattergl\"}], \"scattermapbox\": [{\"marker\": {\"colorbar\": {\"outlinewidth\": 0, \"ticks\": \"\"}}, \"type\": \"scattermapbox\"}], \"scatterpolar\": [{\"marker\": {\"colorbar\": {\"outlinewidth\": 0, \"ticks\": \"\"}}, \"type\": \"scatterpolar\"}], \"scatterpolargl\": [{\"marker\": {\"colorbar\": {\"outlinewidth\": 0, \"ticks\": \"\"}}, \"type\": \"scatterpolargl\"}], \"scatterternary\": [{\"marker\": {\"colorbar\": {\"outlinewidth\": 0, \"ticks\": \"\"}}, \"type\": \"scatterternary\"}], \"surface\": [{\"colorbar\": {\"outlinewidth\": 0, \"ticks\": \"\"}, \"colorscale\": [[0.0, \"#0d0887\"], [0.1111111111111111, \"#46039f\"], [0.2222222222222222, \"#7201a8\"], [0.3333333333333333, \"#9c179e\"], [0.4444444444444444, \"#bd3786\"], [0.5555555555555556, \"#d8576b\"], [0.6666666666666666, \"#ed7953\"], [0.7777777777777778, \"#fb9f3a\"], [0.8888888888888888, \"#fdca26\"], [1.0, \"#f0f921\"]], \"type\": \"surface\"}], \"table\": [{\"cells\": {\"fill\": {\"color\": \"#EBF0F8\"}, \"line\": {\"color\": \"white\"}}, \"header\": {\"fill\": {\"color\": \"#C8D4E3\"}, \"line\": {\"color\": \"white\"}}, \"type\": \"table\"}]}, \"layout\": {\"annotationdefaults\": {\"arrowcolor\": \"#2a3f5f\", \"arrowhead\": 0, \"arrowwidth\": 1}, \"colorscale\": {\"diverging\": [[0, \"#8e0152\"], [0.1, \"#c51b7d\"], [0.2, \"#de77ae\"], [0.3, \"#f1b6da\"], [0.4, \"#fde0ef\"], [0.5, \"#f7f7f7\"], [0.6, \"#e6f5d0\"], [0.7, \"#b8e186\"], [0.8, \"#7fbc41\"], [0.9, \"#4d9221\"], [1, \"#276419\"]], \"sequential\": [[0.0, \"#0d0887\"], [0.1111111111111111, \"#46039f\"], [0.2222222222222222, \"#7201a8\"], [0.3333333333333333, \"#9c179e\"], [0.4444444444444444, \"#bd3786\"], [0.5555555555555556, \"#d8576b\"], [0.6666666666666666, \"#ed7953\"], [0.7777777777777778, \"#fb9f3a\"], [0.8888888888888888, \"#fdca26\"], [1.0, \"#f0f921\"]], \"sequentialminus\": [[0.0, \"#0d0887\"], [0.1111111111111111, \"#46039f\"], [0.2222222222222222, \"#7201a8\"], [0.3333333333333333, \"#9c179e\"], [0.4444444444444444, \"#bd3786\"], [0.5555555555555556, \"#d8576b\"], [0.6666666666666666, \"#ed7953\"], [0.7777777777777778, \"#fb9f3a\"], [0.8888888888888888, \"#fdca26\"], [1.0, \"#f0f921\"]]}, \"colorway\": [\"#636efa\", \"#EF553B\", \"#00cc96\", \"#ab63fa\", \"#FFA15A\", \"#19d3f3\", \"#FF6692\", \"#B6E880\", \"#FF97FF\", \"#FECB52\"], \"font\": {\"color\": \"#2a3f5f\"}, \"geo\": {\"bgcolor\": \"white\", \"lakecolor\": \"white\", \"landcolor\": \"#E5ECF6\", \"showlakes\": true, \"showland\": true, \"subunitcolor\": \"white\"}, \"hoverlabel\": {\"align\": \"left\"}, \"hovermode\": \"closest\", \"mapbox\": {\"style\": \"light\"}, \"paper_bgcolor\": \"white\", \"plot_bgcolor\": \"#E5ECF6\", \"polar\": {\"angularaxis\": {\"gridcolor\": \"white\", \"linecolor\": \"white\", \"ticks\": \"\"}, \"bgcolor\": \"#E5ECF6\", \"radialaxis\": {\"gridcolor\": \"white\", \"linecolor\": \"white\", \"ticks\": \"\"}}, \"scene\": {\"xaxis\": {\"backgroundcolor\": \"#E5ECF6\", \"gridcolor\": \"white\", \"gridwidth\": 2, \"linecolor\": \"white\", \"showbackground\": true, \"ticks\": \"\", \"zerolinecolor\": \"white\"}, \"yaxis\": {\"backgroundcolor\": \"#E5ECF6\", \"gridcolor\": \"white\", \"gridwidth\": 2, \"linecolor\": \"white\", \"showbackground\": true, \"ticks\": \"\", \"zerolinecolor\": \"white\"}, \"zaxis\": {\"backgroundcolor\": \"#E5ECF6\", \"gridcolor\": \"white\", \"gridwidth\": 2, \"linecolor\": \"white\", \"showbackground\": true, \"ticks\": \"\", \"zerolinecolor\": \"white\"}}, \"shapedefaults\": {\"line\": {\"color\": \"#2a3f5f\"}}, \"ternary\": {\"aaxis\": {\"gridcolor\": \"white\", \"linecolor\": \"white\", \"ticks\": \"\"}, \"baxis\": {\"gridcolor\": \"white\", \"linecolor\": \"white\", \"ticks\": \"\"}, \"bgcolor\": \"#E5ECF6\", \"caxis\": {\"gridcolor\": \"white\", \"linecolor\": \"white\", \"ticks\": \"\"}}, \"title\": {\"x\": 0.05}, \"xaxis\": {\"automargin\": true, \"gridcolor\": \"white\", \"linecolor\": \"white\", \"ticks\": \"\", \"zerolinecolor\": \"white\", \"zerolinewidth\": 2}, \"yaxis\": {\"automargin\": true, \"gridcolor\": \"white\", \"linecolor\": \"white\", \"ticks\": \"\", \"zerolinecolor\": \"white\", \"zerolinewidth\": 2}}}, \"title\": {\"text\": \"Variables with Missing Values\"}, \"xaxis\": {\"title\": {\"text\": \"Features Having Missing Observations\"}}, \"yaxis\": {\"title\": {\"text\": \"Missing Values\"}}},\n",
       "                        {\"responsive\": true}\n",
       "                    ).then(function(){\n",
       "                            \n",
       "var gd = document.getElementById('4ad068d2-5e40-4ea7-8dba-807f53efe9d3');\n",
       "var x = new MutationObserver(function (mutations, observer) {{\n",
       "        var display = window.getComputedStyle(gd).display;\n",
       "        if (!display || display === 'none') {{\n",
       "            console.log([gd, 'removed!']);\n",
       "            Plotly.purge(gd);\n",
       "            observer.disconnect();\n",
       "        }}\n",
       "}});\n",
       "\n",
       "// Listen for the removal of the full notebook cells\n",
       "var notebookContainer = gd.closest('#notebook-container');\n",
       "if (notebookContainer) {{\n",
       "    x.observe(notebookContainer, {childList: true});\n",
       "}}\n",
       "\n",
       "// Listen for the clearing of the current output cell\n",
       "var outputEl = gd.closest('.output');\n",
       "if (outputEl) {{\n",
       "    x.observe(outputEl, {childList: true});\n",
       "}}\n",
       "\n",
       "                        })\n",
       "                };\n",
       "                });\n",
       "            </script>\n",
       "        </div>"
      ]
     },
     "metadata": {},
     "output_type": "display_data"
    }
   ],
   "source": [
    "def scatter_plot(x, y, title, xaxis, yaxis, size, c_scale):\n",
    "    trace = go.Scatter(x = x,\n",
    "                        y = y,\n",
    "                        mode = 'markers',\n",
    "                        marker = dict(color = y, size=size, showscale = True, colorscale = c_scale))\n",
    "    layout = go.Layout(hovermode = 'closest', title = title, xaxis = dict(title = xaxis), yaxis = dict(title = yaxis))\n",
    "    fig = go.Figure(data = [trace], layout = layout)\n",
    "    return iplot(fig)\n",
    "missing_columns = len(data) - data.loc[:, np.sum(data.isnull())>0].count()\n",
    "x = missing_columns.index\n",
    "y = missing_columns\n",
    "title = 'Variables with Missing Values'\n",
    "scatter_plot(x, y, title, 'Features Having Missing Observations','Missing Values', 20, 'Viridis')"
   ]
  },
  {
   "cell_type": "code",
   "execution_count": 11,
   "metadata": {},
   "outputs": [
    {
     "data": {
      "text/plain": [
       "<matplotlib.axes._subplots.AxesSubplot at 0x7f12ff549f60>"
      ]
     },
     "execution_count": 11,
     "metadata": {},
     "output_type": "execute_result"
    },
    {
     "data": {
      "image/png": "[encoded data removed]",
      "text/plain": [
       "<Figure size 1440x576 with 1 Axes>"
      ]
     },
     "metadata": {},
     "output_type": "display_data"
    }
   ],
   "source": [
    "data=data.dropna()\n",
    "plt.figure(figsize=(20,8))\n",
    "sns.heatmap(data.isnull(), yticklabels=False, cbar=False, cmap = 'summer')"
   ]
  },
  {
   "cell_type": "code",
   "execution_count": 12,
   "metadata": {
    "collapsed": true
   },
   "outputs": [],
   "source": [
    "rem=[float(data['REMUNERA'].values[i].split(', ')[0]+'.'+data['REMUNERA'].values[i].split(', ')[1]) for i in range(len(data))]\n",
    "data['REMUNERA']=rem"
   ]
  },
  {
   "cell_type": "markdown",
   "metadata": {},
   "source": [
    "9) Class UnB e dados com remuneração acima de 1000 Reais"
   ]
  },
  {
   "cell_type": "code",
   "execution_count": null,
   "metadata": {},
   "outputs": [],
   "source": [
    "#data[data['ORG_EXERCICIO']=='Fundação Universidade de Brasília'].sort_values(by='REMUNERA', ascending=False).head()"
   ]
  },
  {
   "cell_type": "code",
   "execution_count": 13,
   "metadata": {},
   "outputs": [],
   "source": [
    "data=data[data['REMUNERA']>1000].sort_values(by='REMUNERA', ascending=False)\n",
    "#data.tail()"
   ]
  },
  {
   "cell_type": "code",
   "execution_count": 14,
   "metadata": {},
   "outputs": [
    {
     "name": "stderr",
     "output_type": "stream",
     "text": [
      "/home/mrclnndrd/anaconda3/lib/python3.6/site-packages/pandas/core/indexing.py:190: SettingWithCopyWarning:\n",
      "\n",
      "\n",
      "A value is trying to be set on a copy of a slice from a DataFrame\n",
      "\n",
      "See the caveats in the documentation: http://pandas.pydata.org/pandas-docs/stable/indexing.html#indexing-view-versus-copy\n",
      "\n"
     ]
    }
   ],
   "source": [
    "data['CLASS']='Outros'\n",
    "data['CLASS'].iloc[np.where(data['ORG_EXERCICIO']=='Fundação Universidade de Brasília')]='UnB'\n",
    "#data.head()"
   ]
  },
  {
   "cell_type": "markdown",
   "metadata": {},
   "source": [
    "10) Seleção de Unidades com mais de 500 servidores lotados"
   ]
  },
  {
   "cell_type": "code",
   "execution_count": 15,
   "metadata": {},
   "outputs": [
    {
     "name": "stdout",
     "output_type": "stream",
     "text": [
      "323 151\n"
     ]
    }
   ],
   "source": [
    "org=data.groupby('ORG_EXERCICIO').count().sort_values(by='REMUNERA', ascending=True)['CLASS'].keys()\n",
    "org500=org[np.where(data.groupby('ORG_EXERCICIO').count().sort_values(by='REMUNERA', ascending=True)['CLASS'].values>500)]\n",
    "print(len(org),len(org500))\n",
    "data500=data[data['ORG_EXERCICIO'].isin(org500)]\n"
   ]
  },
  {
   "cell_type": "markdown",
   "metadata": {},
   "source": [
    "11) Comparação UnB e outras Unidades"
   ]
  },
  {
   "cell_type": "code",
   "execution_count": 16,
   "metadata": {},
   "outputs": [
    {
     "data": {
      "text/plain": [
       "[Text(0,0.5,'Remuneração Média'),\n",
       " Text(0.5,0,'Unidades'),\n",
       " Text(0.5,1,'UnB e Outras Unidades')]"
      ]
     },
     "execution_count": 16,
     "metadata": {},
     "output_type": "execute_result"
    },
    {
     "data": {
      "image/png": "[encoded data removed]",
      "text/plain": [
       "<Figure size 1440x576 with 1 Axes>"
      ]
     },
     "metadata": {},
     "output_type": "display_data"
    }
   ],
   "source": [
    "plt.figure(figsize=(20,8))\n",
    "barplot = sns.barplot(x = \"CLASS\", y = \"REMUNERA\", data = data500, order = [\"UnB\", \"Outros\", ])\n",
    "barplot.set(xlabel = \"Unidades\", ylabel = \"Remuneração Média\", title = \"UnB e Outras Unidades\")"
   ]
  },
  {
   "cell_type": "code",
   "execution_count": 17,
   "metadata": {},
   "outputs": [
    {
     "data": {
      "text/plain": [
       "Text(0.5,0,'Remuneração')"
      ]
     },
     "execution_count": 17,
     "metadata": {},
     "output_type": "execute_result"
    },
    {
     "data": {
      "image/png": "[encoded data removed]",
      "text/plain": [
       "<Figure size 1440x576 with 1 Axes>"
      ]
     },
     "metadata": {},
     "output_type": "display_data"
    }
   ],
   "source": [
    "plt.figure(figsize=(20,8))\n",
    "sns.distplot( data500[data500['CLASS']!='UnB']['REMUNERA'].values , color=\"red\", label=\"Outros\")\n",
    "sns.distplot( data500[data500['CLASS']=='UnB']['REMUNERA'].values , color=\"blue\", label=\"UnB\")\n",
    "plt.legend()\n",
    "plt.xlabel('Remuneração') "
   ]
  },
  {
   "cell_type": "code",
   "execution_count": 18,
   "metadata": {},
   "outputs": [
    {
     "data": {
      "application/vnd.plotly.v1+json": {
       "config": {
        "linkText": "Export to plot.ly",
        "plotlyServerURL": "https://plot.ly",
        "showLink": false
       },
       "data": [
        {
         "marker": {
          "color": [
           25562.95333240843,
           22592.7552202204,
           18962.72727878356,
           18301.463466204445,
           18267.840238429097,
           17912.611205375208,
           16639.82588914551,
           16580.919240875937,
           16541.12519256313,
           16273.495989537956,
           15908.202968960837,
           15766.50279595488,
           14698.150761570017,
           14158.699041281388,
           13991.055681034502,
           13827.378907092494,
           13507.559333958543,
           13460.391356350156,
           12864.50749496969,
           12675.996641221353,
           12545.093718723247,
           12509.43774284563,
           12184.208007712085,
           11934.03350364952,
           11451.756903605454,
           11321.426909638574,
           11256.065501644707,
           11205.861288288323,
           11046.017114893702,
           11042.186170212743,
           10986.387220708268,
           10972.095292801296,
           10811.778179800294,
           10783.533461909354,
           10751.765887038264,
           10696.389489352485,
           10668.644341317364,
           10428.648970341399,
           10353.225131743939,
           10271.184509248289,
           10251.852881592673,
           10205.163952686093,
           10199.484683377208,
           10183.298572023283,
           10177.468002560818,
           10166.588120000017,
           10128.571776532692,
           10120.284227191838,
           10059.78284916204,
           10056.042358003442,
           10042.560915675103,
           10039.91415116984,
           10038.778696625099,
           10028.362964669777,
           10017.76234408621,
           9988.09187803177,
           9958.943145336194,
           9956.37601637598,
           9947.163637259746,
           9941.410467479714,
           9919.522541037342,
           9854.986673693147,
           9852.393171390011,
           9799.93909901451,
           9788.721815068442,
           9774.470637254908,
           9721.018497422812,
           9710.100135253051,
           9660.162464234672,
           9657.711974569906,
           9639.527911073828,
           9620.486475007352,
           9616.773521126637,
           9613.742137207433,
           9589.09886691776,
           9542.111828326148,
           9538.825322263094,
           9519.76855995399,
           9519.742218572168,
           9517.922776778441,
           9515.612182985504,
           9499.019630444409,
           9459.415265348589,
           9452.257265787768,
           9441.521350032626,
           9421.350819397967,
           9371.32721710523,
           9342.169389097731,
           9338.72781281786,
           9314.53691429778,
           9297.498868015291,
           9285.716120376004,
           9284.810464320559,
           9266.852693156645,
           9209.069706498907,
           9207.623591284711,
           9177.85005561726,
           9157.163940011676,
           9080.449390176762,
           9077.963392599728,
           9054.78610462779,
           9054.144893387462,
           9008.313785808741,
           8968.09385572131,
           8954.76709776749,
           8934.849098824541,
           8927.269868995641,
           8902.183146853178,
           8897.432471437121,
           8841.876136189745,
           8835.83828253219,
           8801.045863539435,
           8786.04904761901,
           8766.1266841072,
           8749.401401814508,
           8662.182790813693,
           8651.92480656518,
           8628.378753734607,
           8592.612644230765,
           8590.40049773753,
           8547.662029066485,
           8542.294846077451,
           8482.241097498669,
           8425.465379581194,
           8403.919689612922,
           8389.422022251269,
           8336.378089395255,
           8309.914216369692,
           8188.859355322335,
           8116.449063509185,
           8033.190412881896,
           7990.364915797898,
           7963.880759493669,
           7959.585873015877,
           7861.686876832873,
           7683.306938775509,
           7653.057986486487,
           7643.10239093959,
           7563.684695982565,
           7556.717962962979,
           7534.209491017995,
           7458.523479758819,
           7257.85357423796,
           7238.816313771932,
           7127.574573643403,
           6787.774359538186,
           6693.259840528773,
           6469.852245797917,
           6016.446990932052,
           5158.11900699832,
           4811.493640514194
          ],
          "colorscale": [
           [
            0,
            "#440154"
           ],
           [
            0.1111111111111111,
            "#482878"
           ],
           [
            0.2222222222222222,
            "#3e4989"
           ],
           [
            0.3333333333333333,
            "#31688e"
           ],
           [
            0.4444444444444444,
            "#26828e"
           ],
           [
            0.5555555555555556,
            "#1f9e89"
           ],
           [
            0.6666666666666666,
            "#35b779"
           ],
           [
            0.7777777777777778,
            "#6ece58"
           ],
           [
            0.8888888888888888,
            "#b5de2b"
           ],
           [
            1,
            "#fde725"
           ]
          ],
          "showscale": true,
          "size": 5
         },
         "mode": "markers",
         "type": "scatter",
         "x": [
          "Banco Central do Brasil",
          "Controladoria-Geral da União",
          "Advocacia-Geral da União",
          "Agência Nacional de Energia Elétrica",
          "Agência Nacional do Petróleo, Gás Natural e B",
          "Ministério da Fazenda",
          "Agência Nacional de Aviação Civil",
          "Agência Nacional de Telecomunicações",
          "Empresa Brasileira de Serviços Hospitalares",
          "Ministério das Relações Exteriores",
          "Agência Nacional de Saúde Suplementar",
          "Agência Nacional de Vigilância Sanitária",
          "Comissão Nacional de Energia Nuclear",
          "Departamento de Polícia Rodoviária Federal",
          "Presidência da República",
          "Fundação Oswaldo Cruz",
          "Agência Nacional de Transportes Terrestres",
          "Instituto Nacional de Metrologia, Qualidade e",
          "Instituto Nacional da Propriedade Industrial",
          "Ministério do Meio Ambiente",
          "Ministério da Ciência, Tecnologia, Inovações ",
          "Departamento Nacional de Infraestrutura de Tr",
          "Ministério do Desenvolvimento Regional",
          "Fundação Universidade de Brasília",
          "Universidade Tecnológica Federal do Paraná",
          "Ministério da Agricultura, Pecuária e Abastec",
          "Ministério da Justiça e Segurança Pública",
          "Ministério do Desenvolvimento Social",
          "Universidade Federal de São Carlos - SP",
          "Universidade Federal de Alfenas - MG",
          "Universidade Federal do Rio Grande do Sul",
          "Fundação Universidade Federal de Pelotas",
          "Instituto Chico Mendes de Conservação da Biod",
          "Ministério da Infraestrutura",
          "Universidade Federal de Lavras - MG",
          "Universidade Federal de Santa Maria - RS",
          "Agência Nacional de Mineração",
          "Centro Federal de Educação Tecnológica de Min",
          "Universidade Federal Fluminense - RJ",
          "Universidade Federal da Paraíba",
          "Universidade Federal de Santa Catarina",
          "Universidade Federal do Triângulo Mineiro",
          "Centro Federal de Educação Tecnológica Celso ",
          "Universidade Federal Rural de Pernambuco",
          "Ministério da Educação",
          "Universidade Federal do Rio Grande do Norte",
          "Fundação Universidade Federal de Sergipe",
          "Fundação Universidade Federal Uberlândia",
          "Universidade Federal Rural do Rio de Janeiro",
          "Universidade Federal de Ciências da Saúde de ",
          "Instituto Federal Sul-rio-grandense",
          "Instituto Brasileiro do Meio Ambiente e Recur",
          "Universidade Federal do Pará",
          "Universidade Federal de Goiás",
          "Universidade Federal de Juiz de Fora - MG",
          "Fundação Universidade Federal de São João del",
          "Universidade Federal de São Paulo",
          "Instituto Federal do Rio Grande do Norte",
          "Universidade Federal do Rio Grande - RS",
          "Universidade Federal de Campina Grande - PB",
          "Fundação Universidade Federal do ABC",
          "Instituto Federal da Paraíba",
          "Universidade Federal de Minas Gerais",
          "Instituto Federal de Goiás",
          "Instituto Federal Goiano",
          "Instituto Federal do Rio de Janeiro",
          "Universidade Federal do Espírito Santo",
          "Instituto Federal de Pernambuco",
          "Instituto Federal de Santa Catarina",
          "Instituto Federal do Sudeste de Minas Gerais",
          "Instituto Federal do Sul de Minas Gerais",
          "Universidade Federal de Alagoas",
          "Fundação Universidade Federal de Ouro Preto",
          "Universidade Federal do Ceará",
          "Universidade Federal do Piauí",
          "Instituto Federal do Triângulo Mineiro",
          "Universidade Federal de Mato Grosso",
          "Instituto Federal Fluminense",
          "Universidade Federal do Rio de Janeiro",
          "Universidade Federal do Paraná",
          "Instituto Federal de Alagoas",
          "Instituto Federal do Rio Grande do Sul",
          "Universidade Federal do Vale do São Francisco",
          "Universidade Federal da Bahia",
          "Instituto Federal do Espírito Santo",
          "Instituto Federal de Sergipe",
          "Instituto Federal Farroupilha",
          "Universidade Federal de Roraima",
          "Universidade Federal de Itajubá - MG",
          "Instituto Federal de São Paulo",
          "Instituto Nacional do Seguro Social",
          "Universidade Federal de Pernambuco",
          "Instituto Federal de Minas Gerais",
          "Universidade Federal Rural do Semi-Árido - RN",
          "Instituto Federal Catarinense",
          "Fundação Universidade Federal de Rondônia",
          "Fundação Universidade Federal do Pampa",
          "Universidade Federal de Mato Grosso do Sul",
          "Fundação Universidade Federal do Maranhão",
          "Instituto Federal de Mato Grosso",
          "Universidade Federal do Estado do Rio de Jane",
          "Instituto Federal do Ceará",
          "Colégio Pedro II",
          "Instituto Federal da Bahia",
          "Instituto Federal do Tocantins",
          "Instituto Federal do Paraná",
          "Universidade da Integração Internacional da L",
          "Universidade Federal do Sul da Bahia",
          "Universidade Federal do Recôncavo da Bahia",
          "Instituto Federal de Brasília",
          "Instituto Federal Baiano",
          "Instituto Federal do Norte de Minas Gerais",
          "Instituto Federal do Piauí",
          "Universidade Federal dos Vales do Jequitinhon",
          "Universidade Federal de Viçosa - MG",
          "Fundação Universidade Federal do Tocantins",
          "Fundação Universidade Federal do Amazonas",
          "Instituto Federal do Pará",
          "Universidade Federal da Fronteira Sul",
          "Universidade Federal do Acre",
          "Instituto Federal do Amazonas",
          "Instituto Federal do Sertão Pernambucano",
          "Comando da Aeronáutica",
          "Universidade Federal do Sul e Sudeste do Pará",
          "Instituto Federal do Maranhão",
          "Fundação Universidade Federal da Grande Doura",
          "Universidade Federal Rural da Amazônia",
          "Instituto Nacional de Colonização e Reforma A",
          "Instituto Federal de Roraima",
          "Universidade Federal da Integração Latino-Ame",
          "Instituto Federal de Mato Grosso do Sul",
          "Instituto Federal de Rondônia",
          "Universidade Federal do Oeste do Pará",
          "Universidade Federal do Oeste da Bahia",
          "Defensoria Pública da União",
          "Instituto do Patrimônio Histórico e Artístico",
          "Instituto Federal do Acre",
          "Fundação Universidade Federal do Amapá",
          "Fundação Nacional do Índio",
          "Comando da Marinha",
          "Departamento Nacional de Obras Contra as Seca",
          "Comando do Exército",
          "Fundação Nacional de Saúde",
          "Governo do Ex-Território Federal do Amapá",
          "Instituto Federal do Amapá",
          "Ministério da Defesa",
          "Ministério da Saúde",
          "Governo do Ex-Território Federal de Roraima",
          "Estados / Municípios / Empresas",
          "Fundação Instituto Brasileiro de Geografia e ",
          "Governo do Ex-Território Federal de Rondônia"
         ],
         "y": [
          25562.95333240843,
          22592.7552202204,
          18962.72727878356,
          18301.463466204445,
          18267.840238429097,
          17912.611205375208,
          16639.82588914551,
          16580.919240875937,
          16541.12519256313,
          16273.495989537956,
          15908.202968960837,
          15766.50279595488,
          14698.150761570017,
          14158.699041281388,
          13991.055681034502,
          13827.378907092494,
          13507.559333958543,
          13460.391356350156,
          12864.50749496969,
          12675.996641221353,
          12545.093718723247,
          12509.43774284563,
          12184.208007712085,
          11934.03350364952,
          11451.756903605454,
          11321.426909638574,
          11256.065501644707,
          11205.861288288323,
          11046.017114893702,
          11042.186170212743,
          10986.387220708268,
          10972.095292801296,
          10811.778179800294,
          10783.533461909354,
          10751.765887038264,
          10696.389489352485,
          10668.644341317364,
          10428.648970341399,
          10353.225131743939,
          10271.184509248289,
          10251.852881592673,
          10205.163952686093,
          10199.484683377208,
          10183.298572023283,
          10177.468002560818,
          10166.588120000017,
          10128.571776532692,
          10120.284227191838,
          10059.78284916204,
          10056.042358003442,
          10042.560915675103,
          10039.91415116984,
          10038.778696625099,
          10028.362964669777,
          10017.76234408621,
          9988.09187803177,
          9958.943145336194,
          9956.37601637598,
          9947.163637259746,
          9941.410467479714,
          9919.522541037342,
          9854.986673693147,
          9852.393171390011,
          9799.93909901451,
          9788.721815068442,
          9774.470637254908,
          9721.018497422812,
          9710.100135253051,
          9660.162464234672,
          9657.711974569906,
          9639.527911073828,
          9620.486475007352,
          9616.773521126637,
          9613.742137207433,
          9589.09886691776,
          9542.111828326148,
          9538.825322263094,
          9519.76855995399,
          9519.742218572168,
          9517.922776778441,
          9515.612182985504,
          9499.019630444409,
          9459.415265348589,
          9452.257265787768,
          9441.521350032626,
          9421.350819397967,
          9371.32721710523,
          9342.169389097731,
          9338.72781281786,
          9314.53691429778,
          9297.498868015291,
          9285.716120376004,
          9284.810464320559,
          9266.852693156645,
          9209.069706498907,
          9207.623591284711,
          9177.85005561726,
          9157.163940011676,
          9080.449390176762,
          9077.963392599728,
          9054.78610462779,
          9054.144893387462,
          9008.313785808741,
          8968.09385572131,
          8954.76709776749,
          8934.849098824541,
          8927.269868995641,
          8902.183146853178,
          8897.432471437121,
          8841.876136189745,
          8835.83828253219,
          8801.045863539435,
          8786.04904761901,
          8766.1266841072,
          8749.401401814508,
          8662.182790813693,
          8651.92480656518,
          8628.378753734607,
          8592.612644230765,
          8590.40049773753,
          8547.662029066485,
          8542.294846077451,
          8482.241097498669,
          8425.465379581194,
          8403.919689612922,
          8389.422022251269,
          8336.378089395255,
          8309.914216369692,
          8188.859355322335,
          8116.449063509185,
          8033.190412881896,
          7990.364915797898,
          7963.880759493669,
          7959.585873015877,
          7861.686876832873,
          7683.306938775509,
          7653.057986486487,
          7643.10239093959,
          7563.684695982565,
          7556.717962962979,
          7534.209491017995,
          7458.523479758819,
          7257.85357423796,
          7238.816313771932,
          7127.574573643403,
          6787.774359538186,
          6693.259840528773,
          6469.852245797917,
          6016.446990932052,
          5158.11900699832,
          4811.493640514194
         ]
        }
       ],
       "layout": {
        "hovermode": "closest",
        "template": {
         "data": {
          "bar": [
           {
            "error_x": {
             "color": "#2a3f5f"
            },
            "error_y": {
             "color": "#2a3f5f"
            },
            "marker": {
             "line": {
              "color": "#E5ECF6",
              "width": 0.5
             }
            },
            "type": "bar"
           }
          ],
          "barpolar": [
           {
            "marker": {
             "line": {
              "color": "#E5ECF6",
              "width": 0.5
             }
            },
            "type": "barpolar"
           }
          ],
          "carpet": [
           {
            "aaxis": {
             "endlinecolor": "#2a3f5f",
             "gridcolor": "white",
             "linecolor": "white",
             "minorgridcolor": "white",
             "startlinecolor": "#2a3f5f"
            },
            "baxis": {
             "endlinecolor": "#2a3f5f",
             "gridcolor": "white",
             "linecolor": "white",
             "minorgridcolor": "white",
             "startlinecolor": "#2a3f5f"
            },
            "type": "carpet"
           }
          ],
          "choropleth": [
           {
            "colorbar": {
             "outlinewidth": 0,
             "ticks": ""
            },
            "type": "choropleth"
           }
          ],
          "contour": [
           {
            "colorbar": {
             "outlinewidth": 0,
             "ticks": ""
            },
            "colorscale": [
             [
              0,
              "#0d0887"
             ],
             [
              0.1111111111111111,
              "#46039f"
             ],
             [
              0.2222222222222222,
              "#7201a8"
             ],
             [
              0.3333333333333333,
              "#9c179e"
             ],
             [
              0.4444444444444444,
              "#bd3786"
             ],
             [
              0.5555555555555556,
              "#d8576b"
             ],
             [
              0.6666666666666666,
              "#ed7953"
             ],
             [
              0.7777777777777778,
              "#fb9f3a"
             ],
             [
              0.8888888888888888,
              "#fdca26"
             ],
             [
              1,
              "#f0f921"
             ]
            ],
            "type": "contour"
           }
          ],
          "contourcarpet": [
           {
            "colorbar": {
             "outlinewidth": 0,
             "ticks": ""
            },
            "type": "contourcarpet"
           }
          ],
          "heatmap": [
           {
            "colorbar": {
             "outlinewidth": 0,
             "ticks": ""
            },
            "colorscale": [
             [
              0,
              "#0d0887"
             ],
             [
              0.1111111111111111,
              "#46039f"
             ],
             [
              0.2222222222222222,
              "#7201a8"
             ],
             [
              0.3333333333333333,
              "#9c179e"
             ],
             [
              0.4444444444444444,
              "#bd3786"
             ],
             [
              0.5555555555555556,
              "#d8576b"
             ],
             [
              0.6666666666666666,
              "#ed7953"
             ],
             [
              0.7777777777777778,
              "#fb9f3a"
             ],
             [
              0.8888888888888888,
              "#fdca26"
             ],
             [
              1,
              "#f0f921"
             ]
            ],
            "type": "heatmap"
           }
          ],
          "heatmapgl": [
           {
            "colorbar": {
             "outlinewidth": 0,
             "ticks": ""
            },
            "colorscale": [
             [
              0,
              "#0d0887"
             ],
             [
              0.1111111111111111,
              "#46039f"
             ],
             [
              0.2222222222222222,
              "#7201a8"
             ],
             [
              0.3333333333333333,
              "#9c179e"
             ],
             [
              0.4444444444444444,
              "#bd3786"
             ],
             [
              0.5555555555555556,
              "#d8576b"
             ],
             [
              0.6666666666666666,
              "#ed7953"
             ],
             [
              0.7777777777777778,
              "#fb9f3a"
             ],
             [
              0.8888888888888888,
              "#fdca26"
             ],
             [
              1,
              "#f0f921"
             ]
            ],
            "type": "heatmapgl"
           }
          ],
          "histogram": [
           {
            "marker": {
             "colorbar": {
              "outlinewidth": 0,
              "ticks": ""
             }
            },
            "type": "histogram"
           }
          ],
          "histogram2d": [
           {
            "colorbar": {
             "outlinewidth": 0,
             "ticks": ""
            },
            "colorscale": [
             [
              0,
              "#0d0887"
             ],
             [
              0.1111111111111111,
              "#46039f"
             ],
             [
              0.2222222222222222,
              "#7201a8"
             ],
             [
              0.3333333333333333,
              "#9c179e"
             ],
             [
              0.4444444444444444,
              "#bd3786"
             ],
             [
              0.5555555555555556,
              "#d8576b"
             ],
             [
              0.6666666666666666,
              "#ed7953"
             ],
             [
              0.7777777777777778,
              "#fb9f3a"
             ],
             [
              0.8888888888888888,
              "#fdca26"
             ],
             [
              1,
              "#f0f921"
             ]
            ],
            "type": "histogram2d"
           }
          ],
          "histogram2dcontour": [
           {
            "colorbar": {
             "outlinewidth": 0,
             "ticks": ""
            },
            "colorscale": [
             [
              0,
              "#0d0887"
             ],
             [
              0.1111111111111111,
              "#46039f"
             ],
             [
              0.2222222222222222,
              "#7201a8"
             ],
             [
              0.3333333333333333,
              "#9c179e"
             ],
             [
              0.4444444444444444,
              "#bd3786"
             ],
             [
              0.5555555555555556,
              "#d8576b"
             ],
             [
              0.6666666666666666,
              "#ed7953"
             ],
             [
              0.7777777777777778,
              "#fb9f3a"
             ],
             [
              0.8888888888888888,
              "#fdca26"
             ],
             [
              1,
              "#f0f921"
             ]
            ],
            "type": "histogram2dcontour"
           }
          ],
          "mesh3d": [
           {
            "colorbar": {
             "outlinewidth": 0,
             "ticks": ""
            },
            "type": "mesh3d"
           }
          ],
          "parcoords": [
           {
            "line": {
             "colorbar": {
              "outlinewidth": 0,
              "ticks": ""
             }
            },
            "type": "parcoords"
           }
          ],
          "scatter": [
           {
            "marker": {
             "colorbar": {
              "outlinewidth": 0,
              "ticks": ""
             }
            },
            "type": "scatter"
           }
          ],
          "scatter3d": [
           {
            "line": {
             "colorbar": {
              "outlinewidth": 0,
              "ticks": ""
             }
            },
            "marker": {
             "colorbar": {
              "outlinewidth": 0,
              "ticks": ""
             }
            },
            "type": "scatter3d"
           }
          ],
          "scattercarpet": [
           {
            "marker": {
             "colorbar": {
              "outlinewidth": 0,
              "ticks": ""
             }
            },
            "type": "scattercarpet"
           }
          ],
          "scattergeo": [
           {
            "marker": {
             "colorbar": {
              "outlinewidth": 0,
              "ticks": ""
             }
            },
            "type": "scattergeo"
           }
          ],
          "scattergl": [
           {
            "marker": {
             "colorbar": {
              "outlinewidth": 0,
              "ticks": ""
             }
            },
            "type": "scattergl"
           }
          ],
          "scattermapbox": [
           {
            "marker": {
             "colorbar": {
              "outlinewidth": 0,
              "ticks": ""
             }
            },
            "type": "scattermapbox"
           }
          ],
          "scatterpolar": [
           {
            "marker": {
             "colorbar": {
              "outlinewidth": 0,
              "ticks": ""
             }
            },
            "type": "scatterpolar"
           }
          ],
          "scatterpolargl": [
           {
            "marker": {
             "colorbar": {
              "outlinewidth": 0,
              "ticks": ""
             }
            },
            "type": "scatterpolargl"
           }
          ],
          "scatterternary": [
           {
            "marker": {
             "colorbar": {
              "outlinewidth": 0,
              "ticks": ""
             }
            },
            "type": "scatterternary"
           }
          ],
          "surface": [
           {
            "colorbar": {
             "outlinewidth": 0,
             "ticks": ""
            },
            "colorscale": [
             [
              0,
              "#0d0887"
             ],
             [
              0.1111111111111111,
              "#46039f"
             ],
             [
              0.2222222222222222,
              "#7201a8"
             ],
             [
              0.3333333333333333,
              "#9c179e"
             ],
             [
              0.4444444444444444,
              "#bd3786"
             ],
             [
              0.5555555555555556,
              "#d8576b"
             ],
             [
              0.6666666666666666,
              "#ed7953"
             ],
             [
              0.7777777777777778,
              "#fb9f3a"
             ],
             [
              0.8888888888888888,
              "#fdca26"
             ],
             [
              1,
              "#f0f921"
             ]
            ],
            "type": "surface"
           }
          ],
          "table": [
           {
            "cells": {
             "fill": {
              "color": "#EBF0F8"
             },
             "line": {
              "color": "white"
             }
            },
            "header": {
             "fill": {
              "color": "#C8D4E3"
             },
             "line": {
              "color": "white"
             }
            },
            "type": "table"
           }
          ]
         },
         "layout": {
          "annotationdefaults": {
           "arrowcolor": "#2a3f5f",
           "arrowhead": 0,
           "arrowwidth": 1
          },
          "colorscale": {
           "diverging": [
            [
             0,
             "#8e0152"
            ],
            [
             0.1,
             "#c51b7d"
            ],
            [
             0.2,
             "#de77ae"
            ],
            [
             0.3,
             "#f1b6da"
            ],
            [
             0.4,
             "#fde0ef"
            ],
            [
             0.5,
             "#f7f7f7"
            ],
            [
             0.6,
             "#e6f5d0"
            ],
            [
             0.7,
             "#b8e186"
            ],
            [
             0.8,
             "#7fbc41"
            ],
            [
             0.9,
             "#4d9221"
            ],
            [
             1,
             "#276419"
            ]
           ],
           "sequential": [
            [
             0,
             "#0d0887"
            ],
            [
             0.1111111111111111,
             "#46039f"
            ],
            [
             0.2222222222222222,
             "#7201a8"
            ],
            [
             0.3333333333333333,
             "#9c179e"
            ],
            [
             0.4444444444444444,
             "#bd3786"
            ],
            [
             0.5555555555555556,
             "#d8576b"
            ],
            [
             0.6666666666666666,
             "#ed7953"
            ],
            [
             0.7777777777777778,
             "#fb9f3a"
            ],
            [
             0.8888888888888888,
             "#fdca26"
            ],
            [
             1,
             "#f0f921"
            ]
           ],
           "sequentialminus": [
            [
             0,
             "#0d0887"
            ],
            [
             0.1111111111111111,
             "#46039f"
            ],
            [
             0.2222222222222222,
             "#7201a8"
            ],
            [
             0.3333333333333333,
             "#9c179e"
            ],
            [
             0.4444444444444444,
             "#bd3786"
            ],
            [
             0.5555555555555556,
             "#d8576b"
            ],
            [
             0.6666666666666666,
             "#ed7953"
            ],
            [
             0.7777777777777778,
             "#fb9f3a"
            ],
            [
             0.8888888888888888,
             "#fdca26"
            ],
            [
             1,
             "#f0f921"
            ]
           ]
          },
          "colorway": [
           "#636efa",
           "#EF553B",
           "#00cc96",
           "#ab63fa",
           "#FFA15A",
           "#19d3f3",
           "#FF6692",
           "#B6E880",
           "#FF97FF",
           "#FECB52"
          ],
          "font": {
           "color": "#2a3f5f"
          },
          "geo": {
           "bgcolor": "white",
           "lakecolor": "white",
           "landcolor": "#E5ECF6",
           "showlakes": true,
           "showland": true,
           "subunitcolor": "white"
          },
          "hoverlabel": {
           "align": "left"
          },
          "hovermode": "closest",
          "mapbox": {
           "style": "light"
          },
          "paper_bgcolor": "white",
          "plot_bgcolor": "#E5ECF6",
          "polar": {
           "angularaxis": {
            "gridcolor": "white",
            "linecolor": "white",
            "ticks": ""
           },
           "bgcolor": "#E5ECF6",
           "radialaxis": {
            "gridcolor": "white",
            "linecolor": "white",
            "ticks": ""
           }
          },
          "scene": {
           "xaxis": {
            "backgroundcolor": "#E5ECF6",
            "gridcolor": "white",
            "gridwidth": 2,
            "linecolor": "white",
            "showbackground": true,
            "ticks": "",
            "zerolinecolor": "white"
           },
           "yaxis": {
            "backgroundcolor": "#E5ECF6",
            "gridcolor": "white",
            "gridwidth": 2,
            "linecolor": "white",
            "showbackground": true,
            "ticks": "",
            "zerolinecolor": "white"
           },
           "zaxis": {
            "backgroundcolor": "#E5ECF6",
            "gridcolor": "white",
            "gridwidth": 2,
            "linecolor": "white",
            "showbackground": true,
            "ticks": "",
            "zerolinecolor": "white"
           }
          },
          "shapedefaults": {
           "line": {
            "color": "#2a3f5f"
           }
          },
          "ternary": {
           "aaxis": {
            "gridcolor": "white",
            "linecolor": "white",
            "ticks": ""
           },
           "baxis": {
            "gridcolor": "white",
            "linecolor": "white",
            "ticks": ""
           },
           "bgcolor": "#E5ECF6",
           "caxis": {
            "gridcolor": "white",
            "linecolor": "white",
            "ticks": ""
           }
          },
          "title": {
           "x": 0.05
          },
          "xaxis": {
           "automargin": true,
           "gridcolor": "white",
           "linecolor": "white",
           "ticks": "",
           "zerolinecolor": "white",
           "zerolinewidth": 2
          },
          "yaxis": {
           "automargin": true,
           "gridcolor": "white",
           "linecolor": "white",
           "ticks": "",
           "zerolinecolor": "white",
           "zerolinewidth": 2
          }
         }
        },
        "title": {
         "text": "Variables with Missing Values"
        },
        "xaxis": {
         "title": {
          "text": "Unidades do Executivo"
         }
        },
        "yaxis": {
         "title": {
          "text": "Remuneração Média"
         }
        }
       }
      },
      "text/html": [
       "<div>\n",
       "        \n",
       "        \n",
       "            <div id=\"9612c5a2-6ef8-4ae3-a2dd-d98818368265\" class=\"plotly-graph-div\" style=\"height:525px; width:100%;\"></div>\n",
       "            <script type=\"text/javascript\">\n",
       "                require([\"plotly\"], function(Plotly) {\n",
       "                    window.PLOTLYENV=window.PLOTLYENV || {};\n",
       "                    \n",
       "                if (document.getElementById(\"9612c5a2-6ef8-4ae3-a2dd-d98818368265\")) {\n",
       "                    Plotly.newPlot(\n",
       "                        '9612c5a2-6ef8-4ae3-a2dd-d98818368265',\n",
       "                        [{\"marker\": {\"color\": [25562.95333240843, 22592.7552202204, 18962.72727878356, 18301.463466204445, 18267.840238429097, 17912.611205375208, 16639.82588914551, 16580.919240875937, 16541.12519256313, 16273.495989537956, 15908.202968960837, 15766.50279595488, 14698.150761570017, 14158.699041281388, 13991.055681034502, 13827.378907092494, 13507.559333958543, 13460.391356350156, 12864.50749496969, 12675.996641221353, 12545.093718723247, 12509.43774284563, 12184.208007712085, 11934.03350364952, 11451.756903605454, 11321.426909638574, 11256.065501644707, 11205.861288288323, 11046.017114893702, 11042.186170212743, 10986.387220708268, 10972.095292801296, 10811.778179800294, 10783.533461909354, 10751.765887038264, 10696.389489352485, 10668.644341317364, 10428.648970341399, 10353.225131743939, 10271.184509248289, 10251.852881592673, 10205.163952686093, 10199.484683377208, 10183.298572023283, 10177.468002560818, 10166.588120000017, 10128.571776532692, 10120.284227191838, 10059.78284916204, 10056.042358003442, 10042.560915675103, 10039.91415116984, 10038.778696625099, 10028.362964669777, 10017.76234408621, 9988.09187803177, 9958.943145336194, 9956.37601637598, 9947.163637259746, 9941.410467479714, 9919.522541037342, 9854.986673693147, 9852.393171390011, 9799.93909901451, 9788.721815068442, 9774.470637254908, 9721.018497422812, 9710.100135253051, 9660.162464234672, 9657.711974569906, 9639.527911073828, 9620.486475007352, 9616.773521126637, 9613.742137207433, 9589.09886691776, 9542.111828326148, 9538.825322263094, 9519.76855995399, 9519.742218572168, 9517.922776778441, 9515.612182985504, 9499.019630444409, 9459.415265348589, 9452.257265787768, 9441.521350032626, 9421.350819397967, 9371.32721710523, 9342.169389097731, 9338.72781281786, 9314.53691429778, 9297.498868015291, 9285.716120376004, 9284.810464320559, 9266.852693156645, 9209.069706498907, 9207.623591284711, 9177.85005561726, 9157.163940011676, 9080.449390176762, 9077.963392599728, 9054.78610462779, 9054.144893387462, 9008.313785808741, 8968.09385572131, 8954.76709776749, 8934.849098824541, 8927.269868995641, 8902.183146853178, 8897.432471437121, 8841.876136189745, 8835.83828253219, 8801.045863539435, 8786.04904761901, 8766.1266841072, 8749.401401814508, 8662.182790813693, 8651.92480656518, 8628.378753734607, 8592.612644230765, 8590.40049773753, 8547.662029066485, 8542.294846077451, 8482.241097498669, 8425.465379581194, 8403.919689612922, 8389.422022251269, 8336.378089395255, 8309.914216369692, 8188.859355322335, 8116.449063509185, 8033.190412881896, 7990.364915797898, 7963.880759493669, 7959.585873015877, 7861.686876832873, 7683.306938775509, 7653.057986486487, 7643.10239093959, 7563.684695982565, 7556.717962962979, 7534.209491017995, 7458.523479758819, 7257.85357423796, 7238.816313771932, 7127.574573643403, 6787.774359538186, 6693.259840528773, 6469.852245797917, 6016.446990932052, 5158.11900699832, 4811.493640514194], \"colorscale\": [[0.0, \"#440154\"], [0.1111111111111111, \"#482878\"], [0.2222222222222222, \"#3e4989\"], [0.3333333333333333, \"#31688e\"], [0.4444444444444444, \"#26828e\"], [0.5555555555555556, \"#1f9e89\"], [0.6666666666666666, \"#35b779\"], [0.7777777777777778, \"#6ece58\"], [0.8888888888888888, \"#b5de2b\"], [1.0, \"#fde725\"]], \"showscale\": true, \"size\": 5}, \"mode\": \"markers\", \"type\": \"scatter\", \"x\": [\"Banco Central do Brasil\", \"Controladoria-Geral da Uni\\u00e3o\", \"Advocacia-Geral da Uni\\u00e3o\", \"Ag\\u00eancia Nacional de Energia El\\u00e9trica\", \"Ag\\u00eancia Nacional do Petr\\u00f3leo, G\\u00e1s Natural e B\", \"Minist\\u00e9rio da Fazenda\", \"Ag\\u00eancia Nacional de Avia\\u00e7\\u00e3o Civil\", \"Ag\\u00eancia Nacional de Telecomunica\\u00e7\\u00f5es\", \"Empresa Brasileira de Servi\\u00e7os Hospitalares\", \"Minist\\u00e9rio das Rela\\u00e7\\u00f5es Exteriores\", \"Ag\\u00eancia Nacional de Sa\\u00fade Suplementar\", \"Ag\\u00eancia Nacional de Vigil\\u00e2ncia Sanit\\u00e1ria\", \"Comiss\\u00e3o Nacional de Energia Nuclear\", \"Departamento de Pol\\u00edcia Rodovi\\u00e1ria Federal\", \"Presid\\u00eancia da Rep\\u00fablica\", \"Funda\\u00e7\\u00e3o Oswaldo Cruz\", \"Ag\\u00eancia Nacional de Transportes Terrestres\", \"Instituto Nacional de Metrologia, Qualidade e\", \"Instituto Nacional da Propriedade Industrial\", \"Minist\\u00e9rio do Meio Ambiente\", \"Minist\\u00e9rio da Ci\\u00eancia, Tecnologia, Inova\\u00e7\\u00f5es \", \"Departamento Nacional de Infraestrutura de Tr\", \"Minist\\u00e9rio do Desenvolvimento Regional\", \"Funda\\u00e7\\u00e3o Universidade de Bras\\u00edlia\", \"Universidade Tecnol\\u00f3gica Federal do Paran\\u00e1\", \"Minist\\u00e9rio da Agricultura, Pecu\\u00e1ria e Abastec\", \"Minist\\u00e9rio da Justi\\u00e7a e Seguran\\u00e7a P\\u00fablica\", \"Minist\\u00e9rio do Desenvolvimento Social\", \"Universidade Federal de S\\u00e3o Carlos - SP\", \"Universidade Federal de Alfenas - MG\", \"Universidade Federal do Rio Grande do Sul\", \"Funda\\u00e7\\u00e3o Universidade Federal de Pelotas\", \"Instituto Chico Mendes de Conserva\\u00e7\\u00e3o da Biod\", \"Minist\\u00e9rio da Infraestrutura\", \"Universidade Federal de Lavras - MG\", \"Universidade Federal de Santa Maria - RS\", \"Ag\\u00eancia Nacional de Minera\\u00e7\\u00e3o\", \"Centro Federal de Educa\\u00e7\\u00e3o Tecnol\\u00f3gica de Min\", \"Universidade Federal Fluminense - RJ\", \"Universidade Federal da Para\\u00edba\", \"Universidade Federal de Santa Catarina\", \"Universidade Federal do Tri\\u00e2ngulo Mineiro\", \"Centro Federal de Educa\\u00e7\\u00e3o Tecnol\\u00f3gica Celso \", \"Universidade Federal Rural de Pernambuco\", \"Minist\\u00e9rio da Educa\\u00e7\\u00e3o\", \"Universidade Federal do Rio Grande do Norte\", \"Funda\\u00e7\\u00e3o Universidade Federal de Sergipe\", \"Funda\\u00e7\\u00e3o Universidade Federal Uberl\\u00e2ndia\", \"Universidade Federal Rural do Rio de Janeiro\", \"Universidade Federal de Ci\\u00eancias da Sa\\u00fade de \", \"Instituto Federal Sul-rio-grandense\", \"Instituto Brasileiro do Meio Ambiente e Recur\", \"Universidade Federal do Par\\u00e1\", \"Universidade Federal de Goi\\u00e1s\", \"Universidade Federal de Juiz de Fora - MG\", \"Funda\\u00e7\\u00e3o Universidade Federal de S\\u00e3o Jo\\u00e3o del\", \"Universidade Federal de S\\u00e3o Paulo\", \"Instituto Federal do Rio Grande do Norte\", \"Universidade Federal do Rio Grande - RS\", \"Universidade Federal de Campina Grande - PB\", \"Funda\\u00e7\\u00e3o Universidade Federal do ABC\", \"Instituto Federal da Para\\u00edba\", \"Universidade Federal de Minas Gerais\", \"Instituto Federal de Goi\\u00e1s\", \"Instituto Federal Goiano\", \"Instituto Federal do Rio de Janeiro\", \"Universidade Federal do Esp\\u00edrito Santo\", \"Instituto Federal de Pernambuco\", \"Instituto Federal de Santa Catarina\", \"Instituto Federal do Sudeste de Minas Gerais\", \"Instituto Federal do Sul de Minas Gerais\", \"Universidade Federal de Alagoas\", \"Funda\\u00e7\\u00e3o Universidade Federal de Ouro Preto\", \"Universidade Federal do Cear\\u00e1\", \"Universidade Federal do Piau\\u00ed\", \"Instituto Federal do Tri\\u00e2ngulo Mineiro\", \"Universidade Federal de Mato Grosso\", \"Instituto Federal Fluminense\", \"Universidade Federal do Rio de Janeiro\", \"Universidade Federal do Paran\\u00e1\", \"Instituto Federal de Alagoas\", \"Instituto Federal do Rio Grande do Sul\", \"Universidade Federal do Vale do S\\u00e3o Francisco\", \"Universidade Federal da Bahia\", \"Instituto Federal do Esp\\u00edrito Santo\", \"Instituto Federal de Sergipe\", \"Instituto Federal Farroupilha\", \"Universidade Federal de Roraima\", \"Universidade Federal de Itajub\\u00e1 - MG\", \"Instituto Federal de S\\u00e3o Paulo\", \"Instituto Nacional do Seguro Social\", \"Universidade Federal de Pernambuco\", \"Instituto Federal de Minas Gerais\", \"Universidade Federal Rural do Semi-\\u00c1rido - RN\", \"Instituto Federal Catarinense\", \"Funda\\u00e7\\u00e3o Universidade Federal de Rond\\u00f4nia\", \"Funda\\u00e7\\u00e3o Universidade Federal do Pampa\", \"Universidade Federal de Mato Grosso do Sul\", \"Funda\\u00e7\\u00e3o Universidade Federal do Maranh\\u00e3o\", \"Instituto Federal de Mato Grosso\", \"Universidade Federal do Estado do Rio de Jane\", \"Instituto Federal do Cear\\u00e1\", \"Col\\u00e9gio Pedro II\", \"Instituto Federal da Bahia\", \"Instituto Federal do Tocantins\", \"Instituto Federal do Paran\\u00e1\", \"Universidade da Integra\\u00e7\\u00e3o Internacional da L\", \"Universidade Federal do Sul da Bahia\", \"Universidade Federal do Rec\\u00f4ncavo da Bahia\", \"Instituto Federal de Bras\\u00edlia\", \"Instituto Federal Baiano\", \"Instituto Federal do Norte de Minas Gerais\", \"Instituto Federal do Piau\\u00ed\", \"Universidade Federal dos Vales do Jequitinhon\", \"Universidade Federal de Vi\\u00e7osa - MG\", \"Funda\\u00e7\\u00e3o Universidade Federal do Tocantins\", \"Funda\\u00e7\\u00e3o Universidade Federal do Amazonas\", \"Instituto Federal do Par\\u00e1\", \"Universidade Federal da Fronteira Sul\", \"Universidade Federal do Acre\", \"Instituto Federal do Amazonas\", \"Instituto Federal do Sert\\u00e3o Pernambucano\", \"Comando da Aeron\\u00e1utica\", \"Universidade Federal do Sul e Sudeste do Par\\u00e1\", \"Instituto Federal do Maranh\\u00e3o\", \"Funda\\u00e7\\u00e3o Universidade Federal da Grande Doura\", \"Universidade Federal Rural da Amaz\\u00f4nia\", \"Instituto Nacional de Coloniza\\u00e7\\u00e3o e Reforma A\", \"Instituto Federal de Roraima\", \"Universidade Federal da Integra\\u00e7\\u00e3o Latino-Ame\", \"Instituto Federal de Mato Grosso do Sul\", \"Instituto Federal de Rond\\u00f4nia\", \"Universidade Federal do Oeste do Par\\u00e1\", \"Universidade Federal do Oeste da Bahia\", \"Defensoria P\\u00fablica da Uni\\u00e3o\", \"Instituto do Patrim\\u00f4nio Hist\\u00f3rico e Art\\u00edstico\", \"Instituto Federal do Acre\", \"Funda\\u00e7\\u00e3o Universidade Federal do Amap\\u00e1\", \"Funda\\u00e7\\u00e3o Nacional do \\u00cdndio\", \"Comando da Marinha\", \"Departamento Nacional de Obras Contra as Seca\", \"Comando do Ex\\u00e9rcito\", \"Funda\\u00e7\\u00e3o Nacional de Sa\\u00fade\", \"Governo do Ex-Territ\\u00f3rio Federal do Amap\\u00e1\", \"Instituto Federal do Amap\\u00e1\", \"Minist\\u00e9rio da Defesa\", \"Minist\\u00e9rio da Sa\\u00fade\", \"Governo do Ex-Territ\\u00f3rio Federal de Roraima\", \"Estados / Munic\\u00edpios / Empresas\", \"Funda\\u00e7\\u00e3o Instituto Brasileiro de Geografia e \", \"Governo do Ex-Territ\\u00f3rio Federal de Rond\\u00f4nia\"], \"y\": [25562.95333240843, 22592.7552202204, 18962.72727878356, 18301.463466204445, 18267.840238429097, 17912.611205375208, 16639.82588914551, 16580.919240875937, 16541.12519256313, 16273.495989537956, 15908.202968960837, 15766.50279595488, 14698.150761570017, 14158.699041281388, 13991.055681034502, 13827.378907092494, 13507.559333958543, 13460.391356350156, 12864.50749496969, 12675.996641221353, 12545.093718723247, 12509.43774284563, 12184.208007712085, 11934.03350364952, 11451.756903605454, 11321.426909638574, 11256.065501644707, 11205.861288288323, 11046.017114893702, 11042.186170212743, 10986.387220708268, 10972.095292801296, 10811.778179800294, 10783.533461909354, 10751.765887038264, 10696.389489352485, 10668.644341317364, 10428.648970341399, 10353.225131743939, 10271.184509248289, 10251.852881592673, 10205.163952686093, 10199.484683377208, 10183.298572023283, 10177.468002560818, 10166.588120000017, 10128.571776532692, 10120.284227191838, 10059.78284916204, 10056.042358003442, 10042.560915675103, 10039.91415116984, 10038.778696625099, 10028.362964669777, 10017.76234408621, 9988.09187803177, 9958.943145336194, 9956.37601637598, 9947.163637259746, 9941.410467479714, 9919.522541037342, 9854.986673693147, 9852.393171390011, 9799.93909901451, 9788.721815068442, 9774.470637254908, 9721.018497422812, 9710.100135253051, 9660.162464234672, 9657.711974569906, 9639.527911073828, 9620.486475007352, 9616.773521126637, 9613.742137207433, 9589.09886691776, 9542.111828326148, 9538.825322263094, 9519.76855995399, 9519.742218572168, 9517.922776778441, 9515.612182985504, 9499.019630444409, 9459.415265348589, 9452.257265787768, 9441.521350032626, 9421.350819397967, 9371.32721710523, 9342.169389097731, 9338.72781281786, 9314.53691429778, 9297.498868015291, 9285.716120376004, 9284.810464320559, 9266.852693156645, 9209.069706498907, 9207.623591284711, 9177.85005561726, 9157.163940011676, 9080.449390176762, 9077.963392599728, 9054.78610462779, 9054.144893387462, 9008.313785808741, 8968.09385572131, 8954.76709776749, 8934.849098824541, 8927.269868995641, 8902.183146853178, 8897.432471437121, 8841.876136189745, 8835.83828253219, 8801.045863539435, 8786.04904761901, 8766.1266841072, 8749.401401814508, 8662.182790813693, 8651.92480656518, 8628.378753734607, 8592.612644230765, 8590.40049773753, 8547.662029066485, 8542.294846077451, 8482.241097498669, 8425.465379581194, 8403.919689612922, 8389.422022251269, 8336.378089395255, 8309.914216369692, 8188.859355322335, 8116.449063509185, 8033.190412881896, 7990.364915797898, 7963.880759493669, 7959.585873015877, 7861.686876832873, 7683.306938775509, 7653.057986486487, 7643.10239093959, 7563.684695982565, 7556.717962962979, 7534.209491017995, 7458.523479758819, 7257.85357423796, 7238.816313771932, 7127.574573643403, 6787.774359538186, 6693.259840528773, 6469.852245797917, 6016.446990932052, 5158.11900699832, 4811.493640514194]}],\n",
       "                        {\"hovermode\": \"closest\", \"template\": {\"data\": {\"bar\": [{\"error_x\": {\"color\": \"#2a3f5f\"}, \"error_y\": {\"color\": \"#2a3f5f\"}, \"marker\": {\"line\": {\"color\": \"#E5ECF6\", \"width\": 0.5}}, \"type\": \"bar\"}], \"barpolar\": [{\"marker\": {\"line\": {\"color\": \"#E5ECF6\", \"width\": 0.5}}, \"type\": \"barpolar\"}], \"carpet\": [{\"aaxis\": {\"endlinecolor\": \"#2a3f5f\", \"gridcolor\": \"white\", \"linecolor\": \"white\", \"minorgridcolor\": \"white\", \"startlinecolor\": \"#2a3f5f\"}, \"baxis\": {\"endlinecolor\": \"#2a3f5f\", \"gridcolor\": \"white\", \"linecolor\": \"white\", \"minorgridcolor\": \"white\", \"startlinecolor\": \"#2a3f5f\"}, \"type\": \"carpet\"}], \"choropleth\": [{\"colorbar\": {\"outlinewidth\": 0, \"ticks\": \"\"}, \"type\": \"choropleth\"}], \"contour\": [{\"colorbar\": {\"outlinewidth\": 0, \"ticks\": \"\"}, \"colorscale\": [[0.0, \"#0d0887\"], [0.1111111111111111, \"#46039f\"], [0.2222222222222222, \"#7201a8\"], [0.3333333333333333, \"#9c179e\"], [0.4444444444444444, \"#bd3786\"], [0.5555555555555556, \"#d8576b\"], [0.6666666666666666, \"#ed7953\"], [0.7777777777777778, \"#fb9f3a\"], [0.8888888888888888, \"#fdca26\"], [1.0, \"#f0f921\"]], \"type\": \"contour\"}], \"contourcarpet\": [{\"colorbar\": {\"outlinewidth\": 0, \"ticks\": \"\"}, \"type\": \"contourcarpet\"}], \"heatmap\": [{\"colorbar\": {\"outlinewidth\": 0, \"ticks\": \"\"}, \"colorscale\": [[0.0, \"#0d0887\"], [0.1111111111111111, \"#46039f\"], [0.2222222222222222, \"#7201a8\"], [0.3333333333333333, \"#9c179e\"], [0.4444444444444444, \"#bd3786\"], [0.5555555555555556, \"#d8576b\"], [0.6666666666666666, \"#ed7953\"], [0.7777777777777778, \"#fb9f3a\"], [0.8888888888888888, \"#fdca26\"], [1.0, \"#f0f921\"]], \"type\": \"heatmap\"}], \"heatmapgl\": [{\"colorbar\": {\"outlinewidth\": 0, \"ticks\": \"\"}, \"colorscale\": [[0.0, \"#0d0887\"], [0.1111111111111111, \"#46039f\"], [0.2222222222222222, \"#7201a8\"], [0.3333333333333333, \"#9c179e\"], [0.4444444444444444, \"#bd3786\"], [0.5555555555555556, \"#d8576b\"], [0.6666666666666666, \"#ed7953\"], [0.7777777777777778, \"#fb9f3a\"], [0.8888888888888888, \"#fdca26\"], [1.0, \"#f0f921\"]], \"type\": \"heatmapgl\"}], \"histogram\": [{\"marker\": {\"colorbar\": {\"outlinewidth\": 0, \"ticks\": \"\"}}, \"type\": \"histogram\"}], \"histogram2d\": [{\"colorbar\": {\"outlinewidth\": 0, \"ticks\": \"\"}, \"colorscale\": [[0.0, \"#0d0887\"], [0.1111111111111111, \"#46039f\"], [0.2222222222222222, \"#7201a8\"], [0.3333333333333333, \"#9c179e\"], [0.4444444444444444, \"#bd3786\"], [0.5555555555555556, \"#d8576b\"], [0.6666666666666666, \"#ed7953\"], [0.7777777777777778, \"#fb9f3a\"], [0.8888888888888888, \"#fdca26\"], [1.0, \"#f0f921\"]], \"type\": \"histogram2d\"}], \"histogram2dcontour\": [{\"colorbar\": {\"outlinewidth\": 0, \"ticks\": \"\"}, \"colorscale\": [[0.0, \"#0d0887\"], [0.1111111111111111, \"#46039f\"], [0.2222222222222222, \"#7201a8\"], [0.3333333333333333, \"#9c179e\"], [0.4444444444444444, \"#bd3786\"], [0.5555555555555556, \"#d8576b\"], [0.6666666666666666, \"#ed7953\"], [0.7777777777777778, \"#fb9f3a\"], [0.8888888888888888, \"#fdca26\"], [1.0, \"#f0f921\"]], \"type\": \"histogram2dcontour\"}], \"mesh3d\": [{\"colorbar\": {\"outlinewidth\": 0, \"ticks\": \"\"}, \"type\": \"mesh3d\"}], \"parcoords\": [{\"line\": {\"colorbar\": {\"outlinewidth\": 0, \"ticks\": \"\"}}, \"type\": \"parcoords\"}], \"scatter\": [{\"marker\": {\"colorbar\": {\"outlinewidth\": 0, \"ticks\": \"\"}}, \"type\": \"scatter\"}], \"scatter3d\": [{\"line\": {\"colorbar\": {\"outlinewidth\": 0, \"ticks\": \"\"}}, \"marker\": {\"colorbar\": {\"outlinewidth\": 0, \"ticks\": \"\"}}, \"type\": \"scatter3d\"}], \"scattercarpet\": [{\"marker\": {\"colorbar\": {\"outlinewidth\": 0, \"ticks\": \"\"}}, \"type\": \"scattercarpet\"}], \"scattergeo\": [{\"marker\": {\"colorbar\": {\"outlinewidth\": 0, \"ticks\": \"\"}}, \"type\": \"scattergeo\"}], \"scattergl\": [{\"marker\": {\"colorbar\": {\"outlinewidth\": 0, \"ticks\": \"\"}}, \"type\": \"scattergl\"}], \"scattermapbox\": [{\"marker\": {\"colorbar\": {\"outlinewidth\": 0, \"ticks\": \"\"}}, \"type\": \"scattermapbox\"}], \"scatterpolar\": [{\"marker\": {\"colorbar\": {\"outlinewidth\": 0, \"ticks\": \"\"}}, \"type\": \"scatterpolar\"}], \"scatterpolargl\": [{\"marker\": {\"colorbar\": {\"outlinewidth\": 0, \"ticks\": \"\"}}, \"type\": \"scatterpolargl\"}], \"scatterternary\": [{\"marker\": {\"colorbar\": {\"outlinewidth\": 0, \"ticks\": \"\"}}, \"type\": \"scatterternary\"}], \"surface\": [{\"colorbar\": {\"outlinewidth\": 0, \"ticks\": \"\"}, \"colorscale\": [[0.0, \"#0d0887\"], [0.1111111111111111, \"#46039f\"], [0.2222222222222222, \"#7201a8\"], [0.3333333333333333, \"#9c179e\"], [0.4444444444444444, \"#bd3786\"], [0.5555555555555556, \"#d8576b\"], [0.6666666666666666, \"#ed7953\"], [0.7777777777777778, \"#fb9f3a\"], [0.8888888888888888, \"#fdca26\"], [1.0, \"#f0f921\"]], \"type\": \"surface\"}], \"table\": [{\"cells\": {\"fill\": {\"color\": \"#EBF0F8\"}, \"line\": {\"color\": \"white\"}}, \"header\": {\"fill\": {\"color\": \"#C8D4E3\"}, \"line\": {\"color\": \"white\"}}, \"type\": \"table\"}]}, \"layout\": {\"annotationdefaults\": {\"arrowcolor\": \"#2a3f5f\", \"arrowhead\": 0, \"arrowwidth\": 1}, \"colorscale\": {\"diverging\": [[0, \"#8e0152\"], [0.1, \"#c51b7d\"], [0.2, \"#de77ae\"], [0.3, \"#f1b6da\"], [0.4, \"#fde0ef\"], [0.5, \"#f7f7f7\"], [0.6, \"#e6f5d0\"], [0.7, \"#b8e186\"], [0.8, \"#7fbc41\"], [0.9, \"#4d9221\"], [1, \"#276419\"]], \"sequential\": [[0.0, \"#0d0887\"], [0.1111111111111111, \"#46039f\"], [0.2222222222222222, \"#7201a8\"], [0.3333333333333333, \"#9c179e\"], [0.4444444444444444, \"#bd3786\"], [0.5555555555555556, \"#d8576b\"], [0.6666666666666666, \"#ed7953\"], [0.7777777777777778, \"#fb9f3a\"], [0.8888888888888888, \"#fdca26\"], [1.0, \"#f0f921\"]], \"sequentialminus\": [[0.0, \"#0d0887\"], [0.1111111111111111, \"#46039f\"], [0.2222222222222222, \"#7201a8\"], [0.3333333333333333, \"#9c179e\"], [0.4444444444444444, \"#bd3786\"], [0.5555555555555556, \"#d8576b\"], [0.6666666666666666, \"#ed7953\"], [0.7777777777777778, \"#fb9f3a\"], [0.8888888888888888, \"#fdca26\"], [1.0, \"#f0f921\"]]}, \"colorway\": [\"#636efa\", \"#EF553B\", \"#00cc96\", \"#ab63fa\", \"#FFA15A\", \"#19d3f3\", \"#FF6692\", \"#B6E880\", \"#FF97FF\", \"#FECB52\"], \"font\": {\"color\": \"#2a3f5f\"}, \"geo\": {\"bgcolor\": \"white\", \"lakecolor\": \"white\", \"landcolor\": \"#E5ECF6\", \"showlakes\": true, \"showland\": true, \"subunitcolor\": \"white\"}, \"hoverlabel\": {\"align\": \"left\"}, \"hovermode\": \"closest\", \"mapbox\": {\"style\": \"light\"}, \"paper_bgcolor\": \"white\", \"plot_bgcolor\": \"#E5ECF6\", \"polar\": {\"angularaxis\": {\"gridcolor\": \"white\", \"linecolor\": \"white\", \"ticks\": \"\"}, \"bgcolor\": \"#E5ECF6\", \"radialaxis\": {\"gridcolor\": \"white\", \"linecolor\": \"white\", \"ticks\": \"\"}}, \"scene\": {\"xaxis\": {\"backgroundcolor\": \"#E5ECF6\", \"gridcolor\": \"white\", \"gridwidth\": 2, \"linecolor\": \"white\", \"showbackground\": true, \"ticks\": \"\", \"zerolinecolor\": \"white\"}, \"yaxis\": {\"backgroundcolor\": \"#E5ECF6\", \"gridcolor\": \"white\", \"gridwidth\": 2, \"linecolor\": \"white\", \"showbackground\": true, \"ticks\": \"\", \"zerolinecolor\": \"white\"}, \"zaxis\": {\"backgroundcolor\": \"#E5ECF6\", \"gridcolor\": \"white\", \"gridwidth\": 2, \"linecolor\": \"white\", \"showbackground\": true, \"ticks\": \"\", \"zerolinecolor\": \"white\"}}, \"shapedefaults\": {\"line\": {\"color\": \"#2a3f5f\"}}, \"ternary\": {\"aaxis\": {\"gridcolor\": \"white\", \"linecolor\": \"white\", \"ticks\": \"\"}, \"baxis\": {\"gridcolor\": \"white\", \"linecolor\": \"white\", \"ticks\": \"\"}, \"bgcolor\": \"#E5ECF6\", \"caxis\": {\"gridcolor\": \"white\", \"linecolor\": \"white\", \"ticks\": \"\"}}, \"title\": {\"x\": 0.05}, \"xaxis\": {\"automargin\": true, \"gridcolor\": \"white\", \"linecolor\": \"white\", \"ticks\": \"\", \"zerolinecolor\": \"white\", \"zerolinewidth\": 2}, \"yaxis\": {\"automargin\": true, \"gridcolor\": \"white\", \"linecolor\": \"white\", \"ticks\": \"\", \"zerolinecolor\": \"white\", \"zerolinewidth\": 2}}}, \"title\": {\"text\": \"Variables with Missing Values\"}, \"xaxis\": {\"title\": {\"text\": \"Unidades do Executivo\"}}, \"yaxis\": {\"title\": {\"text\": \"Remunera\\u00e7\\u00e3o M\\u00e9dia\"}}},\n",
       "                        {\"responsive\": true}\n",
       "                    ).then(function(){\n",
       "                            \n",
       "var gd = document.getElementById('9612c5a2-6ef8-4ae3-a2dd-d98818368265');\n",
       "var x = new MutationObserver(function (mutations, observer) {{\n",
       "        var display = window.getComputedStyle(gd).display;\n",
       "        if (!display || display === 'none') {{\n",
       "            console.log([gd, 'removed!']);\n",
       "            Plotly.purge(gd);\n",
       "            observer.disconnect();\n",
       "        }}\n",
       "}});\n",
       "\n",
       "// Listen for the removal of the full notebook cells\n",
       "var notebookContainer = gd.closest('#notebook-container');\n",
       "if (notebookContainer) {{\n",
       "    x.observe(notebookContainer, {childList: true});\n",
       "}}\n",
       "\n",
       "// Listen for the clearing of the current output cell\n",
       "var outputEl = gd.closest('.output');\n",
       "if (outputEl) {{\n",
       "    x.observe(outputEl, {childList: true});\n",
       "}}\n",
       "\n",
       "                        })\n",
       "                };\n",
       "                });\n",
       "            </script>\n",
       "        </div>"
      ]
     },
     "metadata": {},
     "output_type": "display_data"
    }
   ],
   "source": [
    "df=data500.groupby('ORG_EXERCICIO').mean().sort_values(by='REMUNERA', ascending=False).reset_index()\n",
    "scatter_plot(df[df.columns[0]], df[df.columns[1]], title, 'Unidades do Executivo','Remuneração Média', 5, 'Viridis')"
   ]
  },
  {
   "cell_type": "code",
   "execution_count": 19,
   "metadata": {},
   "outputs": [
    {
     "name": "stdout",
     "output_type": "stream",
     "text": [
      "Foram avaliadas 151 Unidades\n"
     ]
    }
   ],
   "source": [
    "print('Foram avaliadas ' + str(len(data500['ORG_EXERCICIO'].unique()))+' Unidades')"
   ]
  },
  {
   "cell_type": "markdown",
   "metadata": {},
   "source": [
    "12) Comparação UnB e outras Universidades"
   ]
  },
  {
   "cell_type": "code",
   "execution_count": 20,
   "metadata": {},
   "outputs": [],
   "source": [
    "univ=['Universidade' in data500['ORG_EXERCICIO'][i] for i in range(len(data500))]\n",
    "data500univ=data500.iloc[univ]"
   ]
  },
  {
   "cell_type": "code",
   "execution_count": 22,
   "metadata": {},
   "outputs": [
    {
     "data": {
      "text/plain": [
       "[Text(0,0.5,'Remuneração Média'),\n",
       " Text(0.5,0,'Unidades'),\n",
       " Text(0.5,1,'UnB e Outras Universidades')]"
      ]
     },
     "execution_count": 22,
     "metadata": {},
     "output_type": "execute_result"
    },
    {
     "data": {
      "image/png": "[encoded data removed]",
      "text/plain": [
       "<Figure size 1440x576 with 1 Axes>"
      ]
     },
     "metadata": {},
     "output_type": "display_data"
    }
   ],
   "source": [
    "plt.figure(figsize=(20,8))\n",
    "barplot = sns.barplot(x = \"CLASS\", y = \"REMUNERA\", data = data500univ, order = [\"UnB\", \"Outros\", ])\n",
    "barplot.set(xlabel = \"Unidades\", ylabel = \"Remuneração Média\", title = \"UnB e Outras Universidades\")"
   ]
  },
  {
   "cell_type": "code",
   "execution_count": 23,
   "metadata": {},
   "outputs": [
    {
     "data": {
      "text/plain": [
       "Text(0.5,0,'Remuneração')"
      ]
     },
     "execution_count": 23,
     "metadata": {},
     "output_type": "execute_result"
    },
    {
     "data": {
      "image/png": "[encoded data removed]",
      "text/plain": [
       "<Figure size 1440x576 with 1 Axes>"
      ]
     },
     "metadata": {},
     "output_type": "display_data"
    }
   ],
   "source": [
    "plt.figure(figsize=(20,8))\n",
    "sns.distplot( data500univ[data500univ['CLASS']!='UnB']['REMUNERA'].values , color=\"red\", label=\"Universidades\")\n",
    "sns.distplot( data500univ[data500univ['CLASS']=='UnB']['REMUNERA'].values , color=\"blue\", label=\"UnB\")\n",
    "plt.legend()\n",
    "plt.xlabel('Remuneração') \n"
   ]
  },
  {
   "cell_type": "code",
   "execution_count": 24,
   "metadata": {},
   "outputs": [
    {
     "data": {
      "application/vnd.plotly.v1+json": {
       "config": {
        "linkText": "Export to plot.ly",
        "plotlyServerURL": "https://plot.ly",
        "showLink": false
       },
       "data": [
        {
         "marker": {
          "color": [
           11934.03350364952,
           11451.756903605454,
           11046.017114893702,
           11042.186170212743,
           10986.387220708268,
           10972.095292801296,
           10751.765887038264,
           10696.389489352485,
           10353.225131743939,
           10271.184509248289,
           10251.852881592673,
           10205.163952686093,
           10183.298572023283,
           10166.588120000017,
           10128.571776532692,
           10120.284227191838,
           10059.78284916204,
           10056.042358003442,
           10038.778696625099,
           10028.362964669777,
           10017.76234408621,
           9988.09187803177,
           9958.943145336194,
           9947.163637259746,
           9941.410467479714,
           9919.522541037342,
           9852.393171390011,
           9721.018497422812,
           9620.486475007352,
           9616.773521126637,
           9613.742137207433,
           9589.09886691776,
           9538.825322263094,
           9519.742218572168,
           9517.922776778441,
           9459.415265348589,
           9452.257265787768,
           9342.169389097731,
           9338.72781281786,
           9285.716120376004,
           9266.852693156645,
           9207.623591284711,
           9177.85005561726,
           9157.163940011676,
           9080.449390176762,
           9054.78610462779,
           8927.269868995641,
           8902.183146853178,
           8897.432471437121,
           8766.1266841072,
           8749.401401814508,
           8662.182790813693,
           8651.92480656518,
           8592.612644230765,
           8590.40049773753,
           8425.465379581194,
           8389.422022251269,
           8336.378089395255,
           8116.449063509185,
           7963.880759493669,
           7959.585873015877,
           7643.10239093959
          ],
          "colorscale": [
           [
            0,
            "#440154"
           ],
           [
            0.1111111111111111,
            "#482878"
           ],
           [
            0.2222222222222222,
            "#3e4989"
           ],
           [
            0.3333333333333333,
            "#31688e"
           ],
           [
            0.4444444444444444,
            "#26828e"
           ],
           [
            0.5555555555555556,
            "#1f9e89"
           ],
           [
            0.6666666666666666,
            "#35b779"
           ],
           [
            0.7777777777777778,
            "#6ece58"
           ],
           [
            0.8888888888888888,
            "#b5de2b"
           ],
           [
            1,
            "#fde725"
           ]
          ],
          "showscale": true,
          "size": 5
         },
         "mode": "markers",
         "type": "scatter",
         "x": [
          "Fundação Universidade de Brasília",
          "Universidade Tecnológica Federal do Paraná",
          "Universidade Federal de São Carlos - SP",
          "Universidade Federal de Alfenas - MG",
          "Universidade Federal do Rio Grande do Sul",
          "Fundação Universidade Federal de Pelotas",
          "Universidade Federal de Lavras - MG",
          "Universidade Federal de Santa Maria - RS",
          "Universidade Federal Fluminense - RJ",
          "Universidade Federal da Paraíba",
          "Universidade Federal de Santa Catarina",
          "Universidade Federal do Triângulo Mineiro",
          "Universidade Federal Rural de Pernambuco",
          "Universidade Federal do Rio Grande do Norte",
          "Fundação Universidade Federal de Sergipe",
          "Fundação Universidade Federal Uberlândia",
          "Universidade Federal Rural do Rio de Janeiro",
          "Universidade Federal de Ciências da Saúde de ",
          "Universidade Federal do Pará",
          "Universidade Federal de Goiás",
          "Universidade Federal de Juiz de Fora - MG",
          "Fundação Universidade Federal de São João del",
          "Universidade Federal de São Paulo",
          "Universidade Federal do Rio Grande - RS",
          "Universidade Federal de Campina Grande - PB",
          "Fundação Universidade Federal do ABC",
          "Universidade Federal de Minas Gerais",
          "Universidade Federal do Espírito Santo",
          "Universidade Federal de Alagoas",
          "Fundação Universidade Federal de Ouro Preto",
          "Universidade Federal do Ceará",
          "Universidade Federal do Piauí",
          "Universidade Federal de Mato Grosso",
          "Universidade Federal do Rio de Janeiro",
          "Universidade Federal do Paraná",
          "Universidade Federal do Vale do São Francisco",
          "Universidade Federal da Bahia",
          "Universidade Federal de Roraima",
          "Universidade Federal de Itajubá - MG",
          "Universidade Federal de Pernambuco",
          "Universidade Federal Rural do Semi-Árido - RN",
          "Fundação Universidade Federal de Rondônia",
          "Fundação Universidade Federal do Pampa",
          "Universidade Federal de Mato Grosso do Sul",
          "Fundação Universidade Federal do Maranhão",
          "Universidade Federal do Estado do Rio de Jane",
          "Universidade da Integração Internacional da L",
          "Universidade Federal do Sul da Bahia",
          "Universidade Federal do Recôncavo da Bahia",
          "Universidade Federal dos Vales do Jequitinhon",
          "Universidade Federal de Viçosa - MG",
          "Fundação Universidade Federal do Tocantins",
          "Fundação Universidade Federal do Amazonas",
          "Universidade Federal da Fronteira Sul",
          "Universidade Federal do Acre",
          "Universidade Federal do Sul e Sudeste do Pará",
          "Fundação Universidade Federal da Grande Doura",
          "Universidade Federal Rural da Amazônia",
          "Universidade Federal da Integração Latino-Ame",
          "Universidade Federal do Oeste do Pará",
          "Universidade Federal do Oeste da Bahia",
          "Fundação Universidade Federal do Amapá"
         ],
         "y": [
          11934.03350364952,
          11451.756903605454,
          11046.017114893702,
          11042.186170212743,
          10986.387220708268,
          10972.095292801296,
          10751.765887038264,
          10696.389489352485,
          10353.225131743939,
          10271.184509248289,
          10251.852881592673,
          10205.163952686093,
          10183.298572023283,
          10166.588120000017,
          10128.571776532692,
          10120.284227191838,
          10059.78284916204,
          10056.042358003442,
          10038.778696625099,
          10028.362964669777,
          10017.76234408621,
          9988.09187803177,
          9958.943145336194,
          9947.163637259746,
          9941.410467479714,
          9919.522541037342,
          9852.393171390011,
          9721.018497422812,
          9620.486475007352,
          9616.773521126637,
          9613.742137207433,
          9589.09886691776,
          9538.825322263094,
          9519.742218572168,
          9517.922776778441,
          9459.415265348589,
          9452.257265787768,
          9342.169389097731,
          9338.72781281786,
          9285.716120376004,
          9266.852693156645,
          9207.623591284711,
          9177.85005561726,
          9157.163940011676,
          9080.449390176762,
          9054.78610462779,
          8927.269868995641,
          8902.183146853178,
          8897.432471437121,
          8766.1266841072,
          8749.401401814508,
          8662.182790813693,
          8651.92480656518,
          8592.612644230765,
          8590.40049773753,
          8425.465379581194,
          8389.422022251269,
          8336.378089395255,
          8116.449063509185,
          7963.880759493669,
          7959.585873015877,
          7643.10239093959
         ]
        }
       ],
       "layout": {
        "hovermode": "closest",
        "template": {
         "data": {
          "bar": [
           {
            "error_x": {
             "color": "#2a3f5f"
            },
            "error_y": {
             "color": "#2a3f5f"
            },
            "marker": {
             "line": {
              "color": "#E5ECF6",
              "width": 0.5
             }
            },
            "type": "bar"
           }
          ],
          "barpolar": [
           {
            "marker": {
             "line": {
              "color": "#E5ECF6",
              "width": 0.5
             }
            },
            "type": "barpolar"
           }
          ],
          "carpet": [
           {
            "aaxis": {
             "endlinecolor": "#2a3f5f",
             "gridcolor": "white",
             "linecolor": "white",
             "minorgridcolor": "white",
             "startlinecolor": "#2a3f5f"
            },
            "baxis": {
             "endlinecolor": "#2a3f5f",
             "gridcolor": "white",
             "linecolor": "white",
             "minorgridcolor": "white",
             "startlinecolor": "#2a3f5f"
            },
            "type": "carpet"
           }
          ],
          "choropleth": [
           {
            "colorbar": {
             "outlinewidth": 0,
             "ticks": ""
            },
            "type": "choropleth"
           }
          ],
          "contour": [
           {
            "colorbar": {
             "outlinewidth": 0,
             "ticks": ""
            },
            "colorscale": [
             [
              0,
              "#0d0887"
             ],
             [
              0.1111111111111111,
              "#46039f"
             ],
             [
              0.2222222222222222,
              "#7201a8"
             ],
             [
              0.3333333333333333,
              "#9c179e"
             ],
             [
              0.4444444444444444,
              "#bd3786"
             ],
             [
              0.5555555555555556,
              "#d8576b"
             ],
             [
              0.6666666666666666,
              "#ed7953"
             ],
             [
              0.7777777777777778,
              "#fb9f3a"
             ],
             [
              0.8888888888888888,
              "#fdca26"
             ],
             [
              1,
              "#f0f921"
             ]
            ],
            "type": "contour"
           }
          ],
          "contourcarpet": [
           {
            "colorbar": {
             "outlinewidth": 0,
             "ticks": ""
            },
            "type": "contourcarpet"
           }
          ],
          "heatmap": [
           {
            "colorbar": {
             "outlinewidth": 0,
             "ticks": ""
            },
            "colorscale": [
             [
              0,
              "#0d0887"
             ],
             [
              0.1111111111111111,
              "#46039f"
             ],
             [
              0.2222222222222222,
              "#7201a8"
             ],
             [
              0.3333333333333333,
              "#9c179e"
             ],
             [
              0.4444444444444444,
              "#bd3786"
             ],
             [
              0.5555555555555556,
              "#d8576b"
             ],
             [
              0.6666666666666666,
              "#ed7953"
             ],
             [
              0.7777777777777778,
              "#fb9f3a"
             ],
             [
              0.8888888888888888,
              "#fdca26"
             ],
             [
              1,
              "#f0f921"
             ]
            ],
            "type": "heatmap"
           }
          ],
          "heatmapgl": [
           {
            "colorbar": {
             "outlinewidth": 0,
             "ticks": ""
            },
            "colorscale": [
             [
              0,
              "#0d0887"
             ],
             [
              0.1111111111111111,
              "#46039f"
             ],
             [
              0.2222222222222222,
              "#7201a8"
             ],
             [
              0.3333333333333333,
              "#9c179e"
             ],
             [
              0.4444444444444444,
              "#bd3786"
             ],
             [
              0.5555555555555556,
              "#d8576b"
             ],
             [
              0.6666666666666666,
              "#ed7953"
             ],
             [
              0.7777777777777778,
              "#fb9f3a"
             ],
             [
              0.8888888888888888,
              "#fdca26"
             ],
             [
              1,
              "#f0f921"
             ]
            ],
            "type": "heatmapgl"
           }
          ],
          "histogram": [
           {
            "marker": {
             "colorbar": {
              "outlinewidth": 0,
              "ticks": ""
             }
            },
            "type": "histogram"
           }
          ],
          "histogram2d": [
           {
            "colorbar": {
             "outlinewidth": 0,
             "ticks": ""
            },
            "colorscale": [
             [
              0,
              "#0d0887"
             ],
             [
              0.1111111111111111,
              "#46039f"
             ],
             [
              0.2222222222222222,
              "#7201a8"
             ],
             [
              0.3333333333333333,
              "#9c179e"
             ],
             [
              0.4444444444444444,
              "#bd3786"
             ],
             [
              0.5555555555555556,
              "#d8576b"
             ],
             [
              0.6666666666666666,
              "#ed7953"
             ],
             [
              0.7777777777777778,
              "#fb9f3a"
             ],
             [
              0.8888888888888888,
              "#fdca26"
             ],
             [
              1,
              "#f0f921"
             ]
            ],
            "type": "histogram2d"
           }
          ],
          "histogram2dcontour": [
           {
            "colorbar": {
             "outlinewidth": 0,
             "ticks": ""
            },
            "colorscale": [
             [
              0,
              "#0d0887"
             ],
             [
              0.1111111111111111,
              "#46039f"
             ],
             [
              0.2222222222222222,
              "#7201a8"
             ],
             [
              0.3333333333333333,
              "#9c179e"
             ],
             [
              0.4444444444444444,
              "#bd3786"
             ],
             [
              0.5555555555555556,
              "#d8576b"
             ],
             [
              0.6666666666666666,
              "#ed7953"
             ],
             [
              0.7777777777777778,
              "#fb9f3a"
             ],
             [
              0.8888888888888888,
              "#fdca26"
             ],
             [
              1,
              "#f0f921"
             ]
            ],
            "type": "histogram2dcontour"
           }
          ],
          "mesh3d": [
           {
            "colorbar": {
             "outlinewidth": 0,
             "ticks": ""
            },
            "type": "mesh3d"
           }
          ],
          "parcoords": [
           {
            "line": {
             "colorbar": {
              "outlinewidth": 0,
              "ticks": ""
             }
            },
            "type": "parcoords"
           }
          ],
          "scatter": [
           {
            "marker": {
             "colorbar": {
              "outlinewidth": 0,
              "ticks": ""
             }
            },
            "type": "scatter"
           }
          ],
          "scatter3d": [
           {
            "line": {
             "colorbar": {
              "outlinewidth": 0,
              "ticks": ""
             }
            },
            "marker": {
             "colorbar": {
              "outlinewidth": 0,
              "ticks": ""
             }
            },
            "type": "scatter3d"
           }
          ],
          "scattercarpet": [
           {
            "marker": {
             "colorbar": {
              "outlinewidth": 0,
              "ticks": ""
             }
            },
            "type": "scattercarpet"
           }
          ],
          "scattergeo": [
           {
            "marker": {
             "colorbar": {
              "outlinewidth": 0,
              "ticks": ""
             }
            },
            "type": "scattergeo"
           }
          ],
          "scattergl": [
           {
            "marker": {
             "colorbar": {
              "outlinewidth": 0,
              "ticks": ""
             }
            },
            "type": "scattergl"
           }
          ],
          "scattermapbox": [
           {
            "marker": {
             "colorbar": {
              "outlinewidth": 0,
              "ticks": ""
             }
            },
            "type": "scattermapbox"
           }
          ],
          "scatterpolar": [
           {
            "marker": {
             "colorbar": {
              "outlinewidth": 0,
              "ticks": ""
             }
            },
            "type": "scatterpolar"
           }
          ],
          "scatterpolargl": [
           {
            "marker": {
             "colorbar": {
              "outlinewidth": 0,
              "ticks": ""
             }
            },
            "type": "scatterpolargl"
           }
          ],
          "scatterternary": [
           {
            "marker": {
             "colorbar": {
              "outlinewidth": 0,
              "ticks": ""
             }
            },
            "type": "scatterternary"
           }
          ],
          "surface": [
           {
            "colorbar": {
             "outlinewidth": 0,
             "ticks": ""
            },
            "colorscale": [
             [
              0,
              "#0d0887"
             ],
             [
              0.1111111111111111,
              "#46039f"
             ],
             [
              0.2222222222222222,
              "#7201a8"
             ],
             [
              0.3333333333333333,
              "#9c179e"
             ],
             [
              0.4444444444444444,
              "#bd3786"
             ],
             [
              0.5555555555555556,
              "#d8576b"
             ],
             [
              0.6666666666666666,
              "#ed7953"
             ],
             [
              0.7777777777777778,
              "#fb9f3a"
             ],
             [
              0.8888888888888888,
              "#fdca26"
             ],
             [
              1,
              "#f0f921"
             ]
            ],
            "type": "surface"
           }
          ],
          "table": [
           {
            "cells": {
             "fill": {
              "color": "#EBF0F8"
             },
             "line": {
              "color": "white"
             }
            },
            "header": {
             "fill": {
              "color": "#C8D4E3"
             },
             "line": {
              "color": "white"
             }
            },
            "type": "table"
           }
          ]
         },
         "layout": {
          "annotationdefaults": {
           "arrowcolor": "#2a3f5f",
           "arrowhead": 0,
           "arrowwidth": 1
          },
          "colorscale": {
           "diverging": [
            [
             0,
             "#8e0152"
            ],
            [
             0.1,
             "#c51b7d"
            ],
            [
             0.2,
             "#de77ae"
            ],
            [
             0.3,
             "#f1b6da"
            ],
            [
             0.4,
             "#fde0ef"
            ],
            [
             0.5,
             "#f7f7f7"
            ],
            [
             0.6,
             "#e6f5d0"
            ],
            [
             0.7,
             "#b8e186"
            ],
            [
             0.8,
             "#7fbc41"
            ],
            [
             0.9,
             "#4d9221"
            ],
            [
             1,
             "#276419"
            ]
           ],
           "sequential": [
            [
             0,
             "#0d0887"
            ],
            [
             0.1111111111111111,
             "#46039f"
            ],
            [
             0.2222222222222222,
             "#7201a8"
            ],
            [
             0.3333333333333333,
             "#9c179e"
            ],
            [
             0.4444444444444444,
             "#bd3786"
            ],
            [
             0.5555555555555556,
             "#d8576b"
            ],
            [
             0.6666666666666666,
             "#ed7953"
            ],
            [
             0.7777777777777778,
             "#fb9f3a"
            ],
            [
             0.8888888888888888,
             "#fdca26"
            ],
            [
             1,
             "#f0f921"
            ]
           ],
           "sequentialminus": [
            [
             0,
             "#0d0887"
            ],
            [
             0.1111111111111111,
             "#46039f"
            ],
            [
             0.2222222222222222,
             "#7201a8"
            ],
            [
             0.3333333333333333,
             "#9c179e"
            ],
            [
             0.4444444444444444,
             "#bd3786"
            ],
            [
             0.5555555555555556,
             "#d8576b"
            ],
            [
             0.6666666666666666,
             "#ed7953"
            ],
            [
             0.7777777777777778,
             "#fb9f3a"
            ],
            [
             0.8888888888888888,
             "#fdca26"
            ],
            [
             1,
             "#f0f921"
            ]
           ]
          },
          "colorway": [
           "#636efa",
           "#EF553B",
           "#00cc96",
           "#ab63fa",
           "#FFA15A",
           "#19d3f3",
           "#FF6692",
           "#B6E880",
           "#FF97FF",
           "#FECB52"
          ],
          "font": {
           "color": "#2a3f5f"
          },
          "geo": {
           "bgcolor": "white",
           "lakecolor": "white",
           "landcolor": "#E5ECF6",
           "showlakes": true,
           "showland": true,
           "subunitcolor": "white"
          },
          "hoverlabel": {
           "align": "left"
          },
          "hovermode": "closest",
          "mapbox": {
           "style": "light"
          },
          "paper_bgcolor": "white",
          "plot_bgcolor": "#E5ECF6",
          "polar": {
           "angularaxis": {
            "gridcolor": "white",
            "linecolor": "white",
            "ticks": ""
           },
           "bgcolor": "#E5ECF6",
           "radialaxis": {
            "gridcolor": "white",
            "linecolor": "white",
            "ticks": ""
           }
          },
          "scene": {
           "xaxis": {
            "backgroundcolor": "#E5ECF6",
            "gridcolor": "white",
            "gridwidth": 2,
            "linecolor": "white",
            "showbackground": true,
            "ticks": "",
            "zerolinecolor": "white"
           },
           "yaxis": {
            "backgroundcolor": "#E5ECF6",
            "gridcolor": "white",
            "gridwidth": 2,
            "linecolor": "white",
            "showbackground": true,
            "ticks": "",
            "zerolinecolor": "white"
           },
           "zaxis": {
            "backgroundcolor": "#E5ECF6",
            "gridcolor": "white",
            "gridwidth": 2,
            "linecolor": "white",
            "showbackground": true,
            "ticks": "",
            "zerolinecolor": "white"
           }
          },
          "shapedefaults": {
           "line": {
            "color": "#2a3f5f"
           }
          },
          "ternary": {
           "aaxis": {
            "gridcolor": "white",
            "linecolor": "white",
            "ticks": ""
           },
           "baxis": {
            "gridcolor": "white",
            "linecolor": "white",
            "ticks": ""
           },
           "bgcolor": "#E5ECF6",
           "caxis": {
            "gridcolor": "white",
            "linecolor": "white",
            "ticks": ""
           }
          },
          "title": {
           "x": 0.05
          },
          "xaxis": {
           "automargin": true,
           "gridcolor": "white",
           "linecolor": "white",
           "ticks": "",
           "zerolinecolor": "white",
           "zerolinewidth": 2
          },
          "yaxis": {
           "automargin": true,
           "gridcolor": "white",
           "linecolor": "white",
           "ticks": "",
           "zerolinecolor": "white",
           "zerolinewidth": 2
          }
         }
        },
        "title": {
         "text": "Remuneração Média Universidades"
        },
        "xaxis": {
         "title": {
          "text": "Unidades do Executivo"
         }
        },
        "yaxis": {
         "title": {
          "text": "Remuneração Média"
         }
        }
       }
      },
      "text/html": [
       "<div>\n",
       "        \n",
       "        \n",
       "            <div id=\"569b3102-b9b2-42c9-9bc5-f8def168f168\" class=\"plotly-graph-div\" style=\"height:525px; width:100%;\"></div>\n",
       "            <script type=\"text/javascript\">\n",
       "                require([\"plotly\"], function(Plotly) {\n",
       "                    window.PLOTLYENV=window.PLOTLYENV || {};\n",
       "                    \n",
       "                if (document.getElementById(\"569b3102-b9b2-42c9-9bc5-f8def168f168\")) {\n",
       "                    Plotly.newPlot(\n",
       "                        '569b3102-b9b2-42c9-9bc5-f8def168f168',\n",
       "                        [{\"marker\": {\"color\": [11934.03350364952, 11451.756903605454, 11046.017114893702, 11042.186170212743, 10986.387220708268, 10972.095292801296, 10751.765887038264, 10696.389489352485, 10353.225131743939, 10271.184509248289, 10251.852881592673, 10205.163952686093, 10183.298572023283, 10166.588120000017, 10128.571776532692, 10120.284227191838, 10059.78284916204, 10056.042358003442, 10038.778696625099, 10028.362964669777, 10017.76234408621, 9988.09187803177, 9958.943145336194, 9947.163637259746, 9941.410467479714, 9919.522541037342, 9852.393171390011, 9721.018497422812, 9620.486475007352, 9616.773521126637, 9613.742137207433, 9589.09886691776, 9538.825322263094, 9519.742218572168, 9517.922776778441, 9459.415265348589, 9452.257265787768, 9342.169389097731, 9338.72781281786, 9285.716120376004, 9266.852693156645, 9207.623591284711, 9177.85005561726, 9157.163940011676, 9080.449390176762, 9054.78610462779, 8927.269868995641, 8902.183146853178, 8897.432471437121, 8766.1266841072, 8749.401401814508, 8662.182790813693, 8651.92480656518, 8592.612644230765, 8590.40049773753, 8425.465379581194, 8389.422022251269, 8336.378089395255, 8116.449063509185, 7963.880759493669, 7959.585873015877, 7643.10239093959], \"colorscale\": [[0.0, \"#440154\"], [0.1111111111111111, \"#482878\"], [0.2222222222222222, \"#3e4989\"], [0.3333333333333333, \"#31688e\"], [0.4444444444444444, \"#26828e\"], [0.5555555555555556, \"#1f9e89\"], [0.6666666666666666, \"#35b779\"], [0.7777777777777778, \"#6ece58\"], [0.8888888888888888, \"#b5de2b\"], [1.0, \"#fde725\"]], \"showscale\": true, \"size\": 5}, \"mode\": \"markers\", \"type\": \"scatter\", \"x\": [\"Funda\\u00e7\\u00e3o Universidade de Bras\\u00edlia\", \"Universidade Tecnol\\u00f3gica Federal do Paran\\u00e1\", \"Universidade Federal de S\\u00e3o Carlos - SP\", \"Universidade Federal de Alfenas - MG\", \"Universidade Federal do Rio Grande do Sul\", \"Funda\\u00e7\\u00e3o Universidade Federal de Pelotas\", \"Universidade Federal de Lavras - MG\", \"Universidade Federal de Santa Maria - RS\", \"Universidade Federal Fluminense - RJ\", \"Universidade Federal da Para\\u00edba\", \"Universidade Federal de Santa Catarina\", \"Universidade Federal do Tri\\u00e2ngulo Mineiro\", \"Universidade Federal Rural de Pernambuco\", \"Universidade Federal do Rio Grande do Norte\", \"Funda\\u00e7\\u00e3o Universidade Federal de Sergipe\", \"Funda\\u00e7\\u00e3o Universidade Federal Uberl\\u00e2ndia\", \"Universidade Federal Rural do Rio de Janeiro\", \"Universidade Federal de Ci\\u00eancias da Sa\\u00fade de \", \"Universidade Federal do Par\\u00e1\", \"Universidade Federal de Goi\\u00e1s\", \"Universidade Federal de Juiz de Fora - MG\", \"Funda\\u00e7\\u00e3o Universidade Federal de S\\u00e3o Jo\\u00e3o del\", \"Universidade Federal de S\\u00e3o Paulo\", \"Universidade Federal do Rio Grande - RS\", \"Universidade Federal de Campina Grande - PB\", \"Funda\\u00e7\\u00e3o Universidade Federal do ABC\", \"Universidade Federal de Minas Gerais\", \"Universidade Federal do Esp\\u00edrito Santo\", \"Universidade Federal de Alagoas\", \"Funda\\u00e7\\u00e3o Universidade Federal de Ouro Preto\", \"Universidade Federal do Cear\\u00e1\", \"Universidade Federal do Piau\\u00ed\", \"Universidade Federal de Mato Grosso\", \"Universidade Federal do Rio de Janeiro\", \"Universidade Federal do Paran\\u00e1\", \"Universidade Federal do Vale do S\\u00e3o Francisco\", \"Universidade Federal da Bahia\", \"Universidade Federal de Roraima\", \"Universidade Federal de Itajub\\u00e1 - MG\", \"Universidade Federal de Pernambuco\", \"Universidade Federal Rural do Semi-\\u00c1rido - RN\", \"Funda\\u00e7\\u00e3o Universidade Federal de Rond\\u00f4nia\", \"Funda\\u00e7\\u00e3o Universidade Federal do Pampa\", \"Universidade Federal de Mato Grosso do Sul\", \"Funda\\u00e7\\u00e3o Universidade Federal do Maranh\\u00e3o\", \"Universidade Federal do Estado do Rio de Jane\", \"Universidade da Integra\\u00e7\\u00e3o Internacional da L\", \"Universidade Federal do Sul da Bahia\", \"Universidade Federal do Rec\\u00f4ncavo da Bahia\", \"Universidade Federal dos Vales do Jequitinhon\", \"Universidade Federal de Vi\\u00e7osa - MG\", \"Funda\\u00e7\\u00e3o Universidade Federal do Tocantins\", \"Funda\\u00e7\\u00e3o Universidade Federal do Amazonas\", \"Universidade Federal da Fronteira Sul\", \"Universidade Federal do Acre\", \"Universidade Federal do Sul e Sudeste do Par\\u00e1\", \"Funda\\u00e7\\u00e3o Universidade Federal da Grande Doura\", \"Universidade Federal Rural da Amaz\\u00f4nia\", \"Universidade Federal da Integra\\u00e7\\u00e3o Latino-Ame\", \"Universidade Federal do Oeste do Par\\u00e1\", \"Universidade Federal do Oeste da Bahia\", \"Funda\\u00e7\\u00e3o Universidade Federal do Amap\\u00e1\"], \"y\": [11934.03350364952, 11451.756903605454, 11046.017114893702, 11042.186170212743, 10986.387220708268, 10972.095292801296, 10751.765887038264, 10696.389489352485, 10353.225131743939, 10271.184509248289, 10251.852881592673, 10205.163952686093, 10183.298572023283, 10166.588120000017, 10128.571776532692, 10120.284227191838, 10059.78284916204, 10056.042358003442, 10038.778696625099, 10028.362964669777, 10017.76234408621, 9988.09187803177, 9958.943145336194, 9947.163637259746, 9941.410467479714, 9919.522541037342, 9852.393171390011, 9721.018497422812, 9620.486475007352, 9616.773521126637, 9613.742137207433, 9589.09886691776, 9538.825322263094, 9519.742218572168, 9517.922776778441, 9459.415265348589, 9452.257265787768, 9342.169389097731, 9338.72781281786, 9285.716120376004, 9266.852693156645, 9207.623591284711, 9177.85005561726, 9157.163940011676, 9080.449390176762, 9054.78610462779, 8927.269868995641, 8902.183146853178, 8897.432471437121, 8766.1266841072, 8749.401401814508, 8662.182790813693, 8651.92480656518, 8592.612644230765, 8590.40049773753, 8425.465379581194, 8389.422022251269, 8336.378089395255, 8116.449063509185, 7963.880759493669, 7959.585873015877, 7643.10239093959]}],\n",
       "                        {\"hovermode\": \"closest\", \"template\": {\"data\": {\"bar\": [{\"error_x\": {\"color\": \"#2a3f5f\"}, \"error_y\": {\"color\": \"#2a3f5f\"}, \"marker\": {\"line\": {\"color\": \"#E5ECF6\", \"width\": 0.5}}, \"type\": \"bar\"}], \"barpolar\": [{\"marker\": {\"line\": {\"color\": \"#E5ECF6\", \"width\": 0.5}}, \"type\": \"barpolar\"}], \"carpet\": [{\"aaxis\": {\"endlinecolor\": \"#2a3f5f\", \"gridcolor\": \"white\", \"linecolor\": \"white\", \"minorgridcolor\": \"white\", \"startlinecolor\": \"#2a3f5f\"}, \"baxis\": {\"endlinecolor\": \"#2a3f5f\", \"gridcolor\": \"white\", \"linecolor\": \"white\", \"minorgridcolor\": \"white\", \"startlinecolor\": \"#2a3f5f\"}, \"type\": \"carpet\"}], \"choropleth\": [{\"colorbar\": {\"outlinewidth\": 0, \"ticks\": \"\"}, \"type\": \"choropleth\"}], \"contour\": [{\"colorbar\": {\"outlinewidth\": 0, \"ticks\": \"\"}, \"colorscale\": [[0.0, \"#0d0887\"], [0.1111111111111111, \"#46039f\"], [0.2222222222222222, \"#7201a8\"], [0.3333333333333333, \"#9c179e\"], [0.4444444444444444, \"#bd3786\"], [0.5555555555555556, \"#d8576b\"], [0.6666666666666666, \"#ed7953\"], [0.7777777777777778, \"#fb9f3a\"], [0.8888888888888888, \"#fdca26\"], [1.0, \"#f0f921\"]], \"type\": \"contour\"}], \"contourcarpet\": [{\"colorbar\": {\"outlinewidth\": 0, \"ticks\": \"\"}, \"type\": \"contourcarpet\"}], \"heatmap\": [{\"colorbar\": {\"outlinewidth\": 0, \"ticks\": \"\"}, \"colorscale\": [[0.0, \"#0d0887\"], [0.1111111111111111, \"#46039f\"], [0.2222222222222222, \"#7201a8\"], [0.3333333333333333, \"#9c179e\"], [0.4444444444444444, \"#bd3786\"], [0.5555555555555556, \"#d8576b\"], [0.6666666666666666, \"#ed7953\"], [0.7777777777777778, \"#fb9f3a\"], [0.8888888888888888, \"#fdca26\"], [1.0, \"#f0f921\"]], \"type\": \"heatmap\"}], \"heatmapgl\": [{\"colorbar\": {\"outlinewidth\": 0, \"ticks\": \"\"}, \"colorscale\": [[0.0, \"#0d0887\"], [0.1111111111111111, \"#46039f\"], [0.2222222222222222, \"#7201a8\"], [0.3333333333333333, \"#9c179e\"], [0.4444444444444444, \"#bd3786\"], [0.5555555555555556, \"#d8576b\"], [0.6666666666666666, \"#ed7953\"], [0.7777777777777778, \"#fb9f3a\"], [0.8888888888888888, \"#fdca26\"], [1.0, \"#f0f921\"]], \"type\": \"heatmapgl\"}], \"histogram\": [{\"marker\": {\"colorbar\": {\"outlinewidth\": 0, \"ticks\": \"\"}}, \"type\": \"histogram\"}], \"histogram2d\": [{\"colorbar\": {\"outlinewidth\": 0, \"ticks\": \"\"}, \"colorscale\": [[0.0, \"#0d0887\"], [0.1111111111111111, \"#46039f\"], [0.2222222222222222, \"#7201a8\"], [0.3333333333333333, \"#9c179e\"], [0.4444444444444444, \"#bd3786\"], [0.5555555555555556, \"#d8576b\"], [0.6666666666666666, \"#ed7953\"], [0.7777777777777778, \"#fb9f3a\"], [0.8888888888888888, \"#fdca26\"], [1.0, \"#f0f921\"]], \"type\": \"histogram2d\"}], \"histogram2dcontour\": [{\"colorbar\": {\"outlinewidth\": 0, \"ticks\": \"\"}, \"colorscale\": [[0.0, \"#0d0887\"], [0.1111111111111111, \"#46039f\"], [0.2222222222222222, \"#7201a8\"], [0.3333333333333333, \"#9c179e\"], [0.4444444444444444, \"#bd3786\"], [0.5555555555555556, \"#d8576b\"], [0.6666666666666666, \"#ed7953\"], [0.7777777777777778, \"#fb9f3a\"], [0.8888888888888888, \"#fdca26\"], [1.0, \"#f0f921\"]], \"type\": \"histogram2dcontour\"}], \"mesh3d\": [{\"colorbar\": {\"outlinewidth\": 0, \"ticks\": \"\"}, \"type\": \"mesh3d\"}], \"parcoords\": [{\"line\": {\"colorbar\": {\"outlinewidth\": 0, \"ticks\": \"\"}}, \"type\": \"parcoords\"}], \"scatter\": [{\"marker\": {\"colorbar\": {\"outlinewidth\": 0, \"ticks\": \"\"}}, \"type\": \"scatter\"}], \"scatter3d\": [{\"line\": {\"colorbar\": {\"outlinewidth\": 0, \"ticks\": \"\"}}, \"marker\": {\"colorbar\": {\"outlinewidth\": 0, \"ticks\": \"\"}}, \"type\": \"scatter3d\"}], \"scattercarpet\": [{\"marker\": {\"colorbar\": {\"outlinewidth\": 0, \"ticks\": \"\"}}, \"type\": \"scattercarpet\"}], \"scattergeo\": [{\"marker\": {\"colorbar\": {\"outlinewidth\": 0, \"ticks\": \"\"}}, \"type\": \"scattergeo\"}], \"scattergl\": [{\"marker\": {\"colorbar\": {\"outlinewidth\": 0, \"ticks\": \"\"}}, \"type\": \"scattergl\"}], \"scattermapbox\": [{\"marker\": {\"colorbar\": {\"outlinewidth\": 0, \"ticks\": \"\"}}, \"type\": \"scattermapbox\"}], \"scatterpolar\": [{\"marker\": {\"colorbar\": {\"outlinewidth\": 0, \"ticks\": \"\"}}, \"type\": \"scatterpolar\"}], \"scatterpolargl\": [{\"marker\": {\"colorbar\": {\"outlinewidth\": 0, \"ticks\": \"\"}}, \"type\": \"scatterpolargl\"}], \"scatterternary\": [{\"marker\": {\"colorbar\": {\"outlinewidth\": 0, \"ticks\": \"\"}}, \"type\": \"scatterternary\"}], \"surface\": [{\"colorbar\": {\"outlinewidth\": 0, \"ticks\": \"\"}, \"colorscale\": [[0.0, \"#0d0887\"], [0.1111111111111111, \"#46039f\"], [0.2222222222222222, \"#7201a8\"], [0.3333333333333333, \"#9c179e\"], [0.4444444444444444, \"#bd3786\"], [0.5555555555555556, \"#d8576b\"], [0.6666666666666666, \"#ed7953\"], [0.7777777777777778, \"#fb9f3a\"], [0.8888888888888888, \"#fdca26\"], [1.0, \"#f0f921\"]], \"type\": \"surface\"}], \"table\": [{\"cells\": {\"fill\": {\"color\": \"#EBF0F8\"}, \"line\": {\"color\": \"white\"}}, \"header\": {\"fill\": {\"color\": \"#C8D4E3\"}, \"line\": {\"color\": \"white\"}}, \"type\": \"table\"}]}, \"layout\": {\"annotationdefaults\": {\"arrowcolor\": \"#2a3f5f\", \"arrowhead\": 0, \"arrowwidth\": 1}, \"colorscale\": {\"diverging\": [[0, \"#8e0152\"], [0.1, \"#c51b7d\"], [0.2, \"#de77ae\"], [0.3, \"#f1b6da\"], [0.4, \"#fde0ef\"], [0.5, \"#f7f7f7\"], [0.6, \"#e6f5d0\"], [0.7, \"#b8e186\"], [0.8, \"#7fbc41\"], [0.9, \"#4d9221\"], [1, \"#276419\"]], \"sequential\": [[0.0, \"#0d0887\"], [0.1111111111111111, \"#46039f\"], [0.2222222222222222, \"#7201a8\"], [0.3333333333333333, \"#9c179e\"], [0.4444444444444444, \"#bd3786\"], [0.5555555555555556, \"#d8576b\"], [0.6666666666666666, \"#ed7953\"], [0.7777777777777778, \"#fb9f3a\"], [0.8888888888888888, \"#fdca26\"], [1.0, \"#f0f921\"]], \"sequentialminus\": [[0.0, \"#0d0887\"], [0.1111111111111111, \"#46039f\"], [0.2222222222222222, \"#7201a8\"], [0.3333333333333333, \"#9c179e\"], [0.4444444444444444, \"#bd3786\"], [0.5555555555555556, \"#d8576b\"], [0.6666666666666666, \"#ed7953\"], [0.7777777777777778, \"#fb9f3a\"], [0.8888888888888888, \"#fdca26\"], [1.0, \"#f0f921\"]]}, \"colorway\": [\"#636efa\", \"#EF553B\", \"#00cc96\", \"#ab63fa\", \"#FFA15A\", \"#19d3f3\", \"#FF6692\", \"#B6E880\", \"#FF97FF\", \"#FECB52\"], \"font\": {\"color\": \"#2a3f5f\"}, \"geo\": {\"bgcolor\": \"white\", \"lakecolor\": \"white\", \"landcolor\": \"#E5ECF6\", \"showlakes\": true, \"showland\": true, \"subunitcolor\": \"white\"}, \"hoverlabel\": {\"align\": \"left\"}, \"hovermode\": \"closest\", \"mapbox\": {\"style\": \"light\"}, \"paper_bgcolor\": \"white\", \"plot_bgcolor\": \"#E5ECF6\", \"polar\": {\"angularaxis\": {\"gridcolor\": \"white\", \"linecolor\": \"white\", \"ticks\": \"\"}, \"bgcolor\": \"#E5ECF6\", \"radialaxis\": {\"gridcolor\": \"white\", \"linecolor\": \"white\", \"ticks\": \"\"}}, \"scene\": {\"xaxis\": {\"backgroundcolor\": \"#E5ECF6\", \"gridcolor\": \"white\", \"gridwidth\": 2, \"linecolor\": \"white\", \"showbackground\": true, \"ticks\": \"\", \"zerolinecolor\": \"white\"}, \"yaxis\": {\"backgroundcolor\": \"#E5ECF6\", \"gridcolor\": \"white\", \"gridwidth\": 2, \"linecolor\": \"white\", \"showbackground\": true, \"ticks\": \"\", \"zerolinecolor\": \"white\"}, \"zaxis\": {\"backgroundcolor\": \"#E5ECF6\", \"gridcolor\": \"white\", \"gridwidth\": 2, \"linecolor\": \"white\", \"showbackground\": true, \"ticks\": \"\", \"zerolinecolor\": \"white\"}}, \"shapedefaults\": {\"line\": {\"color\": \"#2a3f5f\"}}, \"ternary\": {\"aaxis\": {\"gridcolor\": \"white\", \"linecolor\": \"white\", \"ticks\": \"\"}, \"baxis\": {\"gridcolor\": \"white\", \"linecolor\": \"white\", \"ticks\": \"\"}, \"bgcolor\": \"#E5ECF6\", \"caxis\": {\"gridcolor\": \"white\", \"linecolor\": \"white\", \"ticks\": \"\"}}, \"title\": {\"x\": 0.05}, \"xaxis\": {\"automargin\": true, \"gridcolor\": \"white\", \"linecolor\": \"white\", \"ticks\": \"\", \"zerolinecolor\": \"white\", \"zerolinewidth\": 2}, \"yaxis\": {\"automargin\": true, \"gridcolor\": \"white\", \"linecolor\": \"white\", \"ticks\": \"\", \"zerolinecolor\": \"white\", \"zerolinewidth\": 2}}}, \"title\": {\"text\": \"Remunera\\u00e7\\u00e3o M\\u00e9dia Universidades\"}, \"xaxis\": {\"title\": {\"text\": \"Unidades do Executivo\"}}, \"yaxis\": {\"title\": {\"text\": \"Remunera\\u00e7\\u00e3o M\\u00e9dia\"}}},\n",
       "                        {\"responsive\": true}\n",
       "                    ).then(function(){\n",
       "                            \n",
       "var gd = document.getElementById('569b3102-b9b2-42c9-9bc5-f8def168f168');\n",
       "var x = new MutationObserver(function (mutations, observer) {{\n",
       "        var display = window.getComputedStyle(gd).display;\n",
       "        if (!display || display === 'none') {{\n",
       "            console.log([gd, 'removed!']);\n",
       "            Plotly.purge(gd);\n",
       "            observer.disconnect();\n",
       "        }}\n",
       "}});\n",
       "\n",
       "// Listen for the removal of the full notebook cells\n",
       "var notebookContainer = gd.closest('#notebook-container');\n",
       "if (notebookContainer) {{\n",
       "    x.observe(notebookContainer, {childList: true});\n",
       "}}\n",
       "\n",
       "// Listen for the clearing of the current output cell\n",
       "var outputEl = gd.closest('.output');\n",
       "if (outputEl) {{\n",
       "    x.observe(outputEl, {childList: true});\n",
       "}}\n",
       "\n",
       "                        })\n",
       "                };\n",
       "                });\n",
       "            </script>\n",
       "        </div>"
      ]
     },
     "metadata": {},
     "output_type": "display_data"
    }
   ],
   "source": [
    "df=data500univ.groupby('ORG_EXERCICIO').mean().sort_values(by='REMUNERA', ascending=False).reset_index()\n",
    "scatter_plot(df[df.columns[0]], df[df.columns[1]], 'Remuneração Média Universidades', 'Unidades do Executivo','Remuneração Média', 5, 'Viridis')"
   ]
  },
  {
   "cell_type": "code",
   "execution_count": 25,
   "metadata": {},
   "outputs": [
    {
     "name": "stdout",
     "output_type": "stream",
     "text": [
      "Foram avaliadas 62 Universidades\n",
      "As Universidades representam 36.76 % do valor Bruto da Folha\n",
      "Universo de 512006 funcionários sendo 196819 trabalhando em Universidades\n"
     ]
    }
   ],
   "source": [
    "print('Foram avaliadas ' + str(len(data500univ['ORG_EXERCICIO'].unique()))+' Universidades')\n",
    "print('As Universidades representam '+ \n",
    "      str(round(100*data500univ['REMUNERA'].sum()/data500['REMUNERA'].sum(),2)) + ' % do valor Bruto da Folha')\n",
    "print('Universo de '+ \n",
    "      str(len(data500)) + ' funcionários sendo '+str(len(data500univ)) +' trabalhando em Universidades')"
   ]
  },
  {
   "cell_type": "markdown",
   "metadata": {},
   "source": [
    "FIM!! Pode dar ZEBRA!!!"
   ]
  }
 ],
 "metadata": {
  "kernelspec": {
   "display_name": "Python 3",
   "language": "python",
   "name": "python3"
  },
  "language_info": {
   "codemirror_mode": {
    "name": "ipython",
    "version": 3
   },
   "file_extension": ".py",
   "mimetype": "text/x-python",
   "name": "python",
   "nbconvert_exporter": "python",
   "pygments_lexer": "ipython3",
   "version": "3.6.8"
  }
 },
 "nbformat": 4,
 "nbformat_minor": 2
}
