{
 "cells": [
  {
   "cell_type": "markdown",
   "metadata": {},
   "source": [
    "# Universidade de Brasília - UnB\n",
    "\n",
    "Campus UnB Gama - FGA\n",
    "\n",
    "CURSO: Engenharia Eletrônica\n",
    "\n",
    "DISCIPLINA: Processamento Digital de Sinais\n",
    "\n",
    "CONTEÚDO: Filtros, Amostragem, Fourier e Codificação.\n",
    "\n",
    "PROFESSOR: Prof. Eng. Marcelino Monteiro de Andrade, Dr.\n",
    "\n",
    "#######################################################################################################################\n",
    "\n",
    "\n",
    "    Primeira Atividade Prática Avaliativa\n",
    "    \n",
    "    Entrega da Atividade em 10/05/2019 \n",
    "    \n",
    "    A atividade representa 30 pontos em 100 da nota final\n",
    "\n",
    "#######################################################################################################################\n",
    "\n",
    "    \n",
    "Observação: o trabalho deverá enviado na data supracitada, privadamente, para o telegram do professor em dois arquivos: 1) um vídeo demostrado a execução do trabalho e 2) o fonte em Python. Em um segundo momento, os vídeos e códigos serão compartilhados e avaliados com todos o alunos da disciplina.  \n",
    "\n",
    "#######################################################################################################################\n",
    "\n"
   ]
  },
  {
   "cell_type": "markdown",
   "metadata": {},
   "source": [
    "Questão 1)[5 pts] Em Processamento de Sinais, a convolução é um operador linear que aplicado em duas funções resulta numa terceira que representa a soma do produto dessas funções de entrada. Assim, a presente questão corresponde à \"IMPLEMENTAÇÃO DO OPERADOR CONVOLUÇÃO\". Observações: 1) para teste utilize a convolução entre o número da sua matricula na UnB, em binário (função A), e uma outra entrada (função B) com o mesmo tamanho de bits. 2) Apresente o operador convolução no formato de declaração de função padrão em Python \"def(A,B)\""
   ]
  },
  {
   "cell_type": "code",
   "execution_count": null,
   "metadata": {
    "collapsed": true
   },
   "outputs": [],
   "source": []
  },
  {
   "cell_type": "markdown",
   "metadata": {},
   "source": [
    "Questão 2)[5 pts] Considerando a questão 1, apresente uma sequencia de gráficos revelando o processo de convolução, entre a função A e a função B, para a geração da função C = A * B."
   ]
  },
  {
   "cell_type": "code",
   "execution_count": null,
   "metadata": {
    "collapsed": true
   },
   "outputs": [],
   "source": []
  },
  {
   "cell_type": "markdown",
   "metadata": {},
   "source": [
    "Questão  3)[5 pts] A transformada de Fourier é uma operação temporal complexa, onde o módulo representa o somatório das frequências nativas da função de entrada e o argumento complexo a fase de deslocamento da base sinusoidal na frequência em avaliação. Assim, IMPLEMENTE O OPERADOR TRANSFORMADA DE FOURIER. Observações: 1) para teste utilize como sinal de entrada um audio gravado, em voz própria, da leitura do enunciado da presente questão. 2) Apresente o operador Transformada de Fourier no formato de declaração de função padrão em Python \"def(sinal,Fs)\"."
   ]
  },
  {
   "cell_type": "code",
   "execution_count": null,
   "metadata": {
    "collapsed": true
   },
   "outputs": [],
   "source": []
  },
  {
   "cell_type": "markdown",
   "metadata": {},
   "source": [
    "Questão  4) (5 pts) Considerando a questão 3, apresente uma representação gráfica do sinal de audio nos dominíos do Tempo e das Frequências."
   ]
  },
  {
   "cell_type": "code",
   "execution_count": null,
   "metadata": {
    "collapsed": true
   },
   "outputs": [],
   "source": []
  },
  {
   "cell_type": "markdown",
   "metadata": {},
   "source": [
    "Questão 5) (5 pts) No seguinte link \"https://www.dropbox.com/sh/fvxn5q36xpwf8c2/AABJaZxVssXJcs2yl0AIKqYza?dl=0\" são apresentados respostas sonoras ao impulso dos contextos: 1) Churchschelling, 2) FactoryHall, 3) TelephoneT65, 4) Walkman e 5) Washingmachine. Assim, APLIQUE A CONVOLUÇÃO ENTRE O SINAL DE AUDIO, DA QUESTÃO 3, E AS RESPOSTAS IMPULSIONAIS DA PRESENTE QUESTÃO. Observação: 1) escute os efeitos promovidos no processo de convolução."
   ]
  },
  {
   "cell_type": "code",
   "execution_count": null,
   "metadata": {},
   "outputs": [],
   "source": []
  },
  {
   "cell_type": "markdown",
   "metadata": {},
   "source": [
    "Questão 6) (5 pts) Considerando a questão 5, apresente as representações gráficas do sinal de audio convoluido com as supracitadas respostas impulsionais, nos domínos do Tempo e das Frequências."
   ]
  }
 ],
 "metadata": {
  "kernelspec": {
   "display_name": "Python 3",
   "language": "python",
   "name": "python3"
  },
  "language_info": {
   "codemirror_mode": {
    "name": "ipython",
    "version": 3
   },
   "file_extension": ".py",
   "mimetype": "text/x-python",
   "name": "python",
   "nbconvert_exporter": "python",
   "pygments_lexer": "ipython3",
   "version": "3.5.6"
  }
 },
 "nbformat": 4,
 "nbformat_minor": 2
}
